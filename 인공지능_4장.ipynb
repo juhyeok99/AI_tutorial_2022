{
  "nbformat": 4,
  "nbformat_minor": 0,
  "metadata": {
    "colab": {
      "provenance": [],
      "collapsed_sections": []
    },
    "kernelspec": {
      "name": "python3",
      "display_name": "Python 3"
    },
    "language_info": {
      "name": "python"
    }
  },
  "cells": [
    {
      "cell_type": "markdown",
      "source": [
        "#**Building Good Training Datasets–Data Preprocessing**"
      ],
      "metadata": {
        "id": "y0q944MOSJi0"
      }
    },
    {
      "cell_type": "markdown",
      "source": [
        "\n",
        "***\n",
        "\n",
        "**좋은 학습 데이터셋 만드는 법 - 데이터 전처리**\n",
        "\n"
      ],
      "metadata": {
        "id": "d4l7i6yud9ZB"
      }
    },
    {
      "cell_type": "markdown",
      "source": [
        " <br/><br/>"
      ],
      "metadata": {
        "id": "mHYVaJ9XhddS"
      }
    },
    {
      "cell_type": "markdown",
      "source": [
        "##**서론**"
      ],
      "metadata": {
        "id": "KJItkIQceBD7"
      }
    },
    {
      "cell_type": "markdown",
      "source": [
        "데이터의 품질과 포함된 유용한 정보의 양은 기계 **학습 알고리즘이 얼마나 잘 학습할 수 있는지**를 결정하는 핵심 요소이다.\n",
        "\n",
        "따라서 기계 학습 알고리듬에 데이터 세트를 공급하기 전에 **데이터 세트를 검사하고 사전 처리하는 것이 절대적으로 중요**하다."
      ],
      "metadata": {
        "id": "XtJFLupEdjC3"
      }
    },
    {
      "cell_type": "markdown",
      "source": [
        "이 장에서 다룰 내용\n",
        "\n",
        "* 데이터 집합에서 결측값 제거 및 귀속  \n",
        "* 기계 학습 알고리즘을 위한 범주형 데이터 구체화  \n",
        "* 모델 구성에 대한 관련 기능 선택\n",
        "\n"
      ],
      "metadata": {
        "id": "bxPnVf0WSUcU"
      }
    },
    {
      "cell_type": "markdown",
      "source": [
        "\n",
        "\n",
        "---\n",
        "\n"
      ],
      "metadata": {
        "id": "cFaaLOOVeE5r"
      }
    },
    {
      "cell_type": "markdown",
      "source": [
        " <br/><br/>"
      ],
      "metadata": {
        "id": "mme_WrbJhbfW"
      }
    },
    {
      "cell_type": "markdown",
      "source": [
        "## **Dealing with missing data**\n",
        "\n",
        "\n",
        "\n",
        "**결측 데이터 처리**"
      ],
      "metadata": {
        "id": "H86C21fSeC3s"
      }
    },
    {
      "cell_type": "markdown",
      "source": [
        "실제 훈련데이터 세트에서 다양한 이유로 하나 이상의 값을 누락하는 것은 드문 일이 아니다. \n",
        "\n",
        "데이터 수집 프로세스에 오류가 있거나, 특정 측정값을 적용할 수 없거나, 특정 필드가 설문 조사에 단순히 비어 있을 수 있다. 이 때 다양한 표현으로 NaN이나 NULL같은 문자열로 표기할 수 있다.\n",
        "\n",
        "대부분 계산 과정에서 이런 누락된 값을 처리할 수 없거나 **단순히 무시하면 예측할 수 없는 결과를 초래할 수 있기에, 분석을 진행하기 전에 누락된 값을 처리하는것이 중요**하다.\n",
        "\n",
        "데이터 세트에서 항목을 제거하거나 다른 훈련 예제 및 기능에서 누락된 값을 귀속하여 결측값을 처리하기 위한 실용적인 기숭을 통해 작업을 진행할 예정이다.\n",
        "\n",
        "\n",
        "\n",
        "---"
      ],
      "metadata": {
        "id": "PU-nTXF2fh0p"
      }
    },
    {
      "cell_type": "markdown",
      "source": [
        " <br/><br/>"
      ],
      "metadata": {
        "id": "Q9qmm3fthPUr"
      }
    },
    {
      "cell_type": "markdown",
      "source": [
        "###**Identifying missing values in tabular data**\n",
        "\n",
        "**표 데이터에서 결측값 식별**"
      ],
      "metadata": {
        "id": "Pnsfvg5ggk32"
      }
    },
    {
      "cell_type": "markdown",
      "source": [
        "`.csv` 확장자 파일을 통해 간단한 DataFrame을 만들어서 결측값을 처리하는 기술에 대해서 파악해보자."
      ],
      "metadata": {
        "id": "gKm19Aeqh6gO"
      }
    },
    {
      "cell_type": "markdown",
      "source": [
        "\n",
        "\n",
        "```\n",
        ">>> import pandas as pd\n",
        ">>> from io import StringIO\n",
        ">>> csv_data = \\\n",
        "... '''A,B,C,D\n",
        "... 1.0,2.0,3.0,4.0\n",
        "... 5.0,6.0,,8.0\n",
        "... 10.0,11.0,12.0,'''\n",
        ">>> # If you are using Python 2.7, you need\n",
        ">>> # to convert the string to unicode:\n",
        ">>> # csv_data = unicode(csv_data)\n",
        ">>> df = pd.read_csv(StringIO(csv_data))\n",
        ">>> df\n",
        "     A      B     C       D\n",
        "0   1.0    2.0   3.0     4.0\n",
        "1   5.0    6.0   NaN     8.0\n",
        "2   10.0   11.0  12.0    NaN\n",
        "```\n",
        "\n"
      ],
      "metadata": {
        "id": "QeBKPyeehOFz"
      }
    },
    {
      "cell_type": "markdown",
      "source": [
        "이전 장의 코드를 통해서 read_csv함수를 통해 csv 확장자 데이터를 판다 데이터프레임으로 읽었으며, 누락된 데이터들이 NaN으로 채워진 것을 알게되었다.\n",
        "\n",
        "\n",
        "이렇게 작은 경우는 결측값이 한눈에 보이지만, 큰 데이터프레임일 경우에는 수동으로 찾는데 지루하고 시간이 많이 걸린다. 이 경우 pandas에서 제공하는 `isnull()` 메소드를 통해서 **표 셀에 숫자값이 포함되어 있는지(False) 또는 데이터가 누락되어 있는지(True)를 나타내는 부울값으로 데이터프레임을 반환**한다.\n",
        "\n",
        "이 메소드를 통해서 결측값을 반환할 수 있다."
      ],
      "metadata": {
        "id": "cb0De3hGhomb"
      }
    },
    {
      "cell_type": "markdown",
      "source": [
        "\n",
        "\n",
        "```\n",
        ">>> df.isnull().sum()\n",
        "A 0\n",
        "B 0\n",
        "C 1\n",
        "D 1\n",
        "dtype: int64\n",
        "```\n",
        "\n"
      ],
      "metadata": {
        "id": "2BCTvKeDjFtj"
      }
    },
    {
      "cell_type": "markdown",
      "source": [
        "isnull()을 통해서 결측값 수를 셀수 있게 되었다."
      ],
      "metadata": {
        "id": "EAOrhpDwjWpo"
      }
    },
    {
      "cell_type": "markdown",
      "source": [
        "---\n",
        "<br></br>"
      ],
      "metadata": {
        "id": "JttkZXQ6jbPX"
      }
    },
    {
      "cell_type": "markdown",
      "source": [
        "### **Eliminating training examples or features with missing values**\n",
        "\n",
        "**훈련 예제와 features에 있는 결측값 제거하기**"
      ],
      "metadata": {
        "id": "zWzxo8U-jcxn"
      }
    },
    {
      "cell_type": "markdown",
      "source": [
        "결측 데이터를 처리하는 가장 쉬운 방법 중 하나는 데이터 세트에서 해당 features(열) 또는 훈련 예제(행)를 완전히 제거하는 방법이다.\n",
        "\n",
        "**결측값이 있는 행은 dropna 방법을 통해 쉽게 삭제**할 수 있다.\n",
        "\n",
        "\n",
        "\n",
        "```\n",
        ">>> df.dropna(axis=0)\n",
        "\n",
        "  A     B   C   D\n",
        "0 1.0 2.0 3.0 4.0\n",
        "```\n",
        "\n"
      ],
      "metadata": {
        "id": "dXszoc3enyhi"
      }
    },
    {
      "cell_type": "markdown",
      "source": [
        "**축 인수를 1로 설정**하여 행에 하나 이상의 NAN(결측값)이 있는 열을 삭제할 수 있다.\n",
        "\n",
        "\n",
        "\n",
        "\n",
        "```\n",
        ">>> df.dropna(axis=1)\n",
        "\n",
        "\n",
        "      A     B\n",
        "0   1.0   2.0\n",
        "1   5.0   6.0\n",
        "2  10.0  11.0\n",
        "```\n",
        "\n"
      ],
      "metadata": {
        "id": "dHr2pejGoXdc"
      }
    },
    {
      "cell_type": "markdown",
      "source": [
        "dropna 메소드는 다음과 같은 몇가지 추가 매개 변수를 지원한다.\n",
        "\n",
        "\n",
        "\n",
        "```\n",
        ">>> # only drop rows where all columns are NaN\n",
        ">>> # (returns the whole array here since we don't\n",
        ">>> # have a row with all values NaN)\n",
        ">>> df.dropna(how='all')\n",
        "\n",
        "     A     B    C    D\n",
        "0  1.0   2.0  3.0  4.0\n",
        "1  5.0   6.0  NaN  8.0\n",
        "2 10.0  11.0 12.0  NaN\n",
        "```\n",
        "\n",
        "\n",
        "\n",
        "\n",
        "```\n",
        ">>> # drop rows that have fewer than 4 real values\n",
        ">>> df.dropna(thresh=4)\n",
        "\n",
        "    A   B   C   D\n",
        "0 1.0 2.0 3.0 4.0\n",
        "```\n",
        "\n",
        "\n",
        "```\n",
        ">>> # only drop rows where NaN appear in specific columns (here: 'C')\n",
        ">>> df.dropna(subset=['C'])\n",
        "\n",
        "      A     B     C    D\n",
        "0   1.0   2.0   3.0  4.0\n",
        "2  10.0  11.0  12.0  NaN\n",
        "```\n",
        "\n",
        "\n",
        "\n",
        "이 모두 NaN인 경우에만 삭제하도록 하는 how=all 옵션, 특정 임계값을 지정한는 thresh=N, 특정 열에 NaN인 경우에만 삭제하도록 하는 subset=['__'] 옵션도 있다.\n",
        "\n",
        "하지만 너무 많은 행을 삭제하는 경우 realiable analysis가 불가능할 수 있고, 많은 열을 삭제하는 경우 클래스들을 구분하기 위한 다양한 정보를 잃어버릴 수 있다."
      ],
      "metadata": {
        "id": "8l1bUwReopl6"
      }
    },
    {
      "cell_type": "markdown",
      "source": [
        "---\n",
        "<br></br>"
      ],
      "metadata": {
        "id": "pFrhKSkgp12u"
      }
    },
    {
      "cell_type": "markdown",
      "source": [
        "### **Imputing missing values**"
      ],
      "metadata": {
        "id": "EOgL-QnqpS2H"
      }
    },
    {
      "cell_type": "markdown",
      "source": [
        "훈련 예제를 제거하거나 전체 feature 열을 삭제하는 것은 너무 많은 귀중한 데이터를 잃을 수 있게 때문에 실현 가능한 방법이 아니다. 이를 해결하는 가장 **일반적인 보간 기술 중 하나는 평균 귀속**이며, 여기서는 결측값을 전체 feature 열의 평균값으로 간단히 교체한다."
      ],
      "metadata": {
        "id": "Ox6Q2ZN2p7VR"
      }
    },
    {
      "cell_type": "markdown",
      "source": [
        "\n",
        "`scikit-learn`의 `SimpleImputer` 클래스로 사용가능하다.\n",
        "```\n",
        ">>> from sklearn.impute import SimpleImputer\n",
        ">>> import numpy as np\n",
        ">>> imr = SimpleImputer(missing_values=np.nan, strategy='mean')\n",
        ">>> imr = imr.fit(df.values)\n",
        ">>> imputed_data = imr.transform(df.values)\n",
        ">>> imputed_data\n",
        "array([[ 1., 2., 3., 4.],\n",
        "[ 5., 6., 7.5, 8.],\n",
        "[ 10., 11., 12., 6.]])\n",
        "```\n",
        "\n"
      ],
      "metadata": {
        "id": "V_Ymiju7qVnf"
      }
    },
    {
      "cell_type": "markdown",
      "source": [
        "이 방법 이외에도 `df.fillna(df.mean())`을 통해서도 동일한 평균 귀속을 실행할 수 있다."
      ],
      "metadata": {
        "id": "YP6sOV6brj7I"
      }
    },
    {
      "cell_type": "markdown",
      "source": [
        "---\n",
        "<br></br>"
      ],
      "metadata": {
        "id": "qJSwc3lfrtuT"
      }
    },
    {
      "cell_type": "markdown",
      "source": [
        "### **Understanding the scikit-learn estimator API** "
      ],
      "metadata": {
        "id": "KISVflb0rwu7"
      }
    },
    {
      "cell_type": "markdown",
      "source": [
        "위에서 사용한 SimpleImputer 클래스는 skickit-learn의 transformer API의 일부이다.\n",
        "이와같은 transform의 두 가지 필수 방법은 적합성과 변환이다. 자연어처리에 사용되는 transformer와는 다르지만 두 transformer 모두 **`fit`**과 **`transfor`**이 사용된다.\n",
        "\n",
        "**`fit`**은 훈련 데이터에서 매개 변수를 학습하는데 사용되며 변환 방법은 이러한 매개 변수를 사용하여 데이터를 변환한다. **`transform`**변환할 데이터 배열은 모형을 적합시키는데 사용된 데이터 배열과 동일한 수의 feature를 가져야 한다."
      ],
      "metadata": {
        "id": "GV5sLtFZse9s"
      }
    },
    {
      "cell_type": "markdown",
      "source": [
        "---"
      ],
      "metadata": {
        "id": "bPz-RLKsuDOh"
      }
    },
    {
      "cell_type": "markdown",
      "source": [
        "![image.png](data:image/png;base64,iVBORw0KGgoAAAANSUhEUgAAAosAAAF2CAYAAAAGDtJNAAAgAElEQVR4nOzdd3zN1//A8de9N4MYjdFaKTFjJKm990wIqkapkaL2+BqlalSLokYptZWiqNSokKoRStrYm1ghqB2bJM249/z+yO9+KiKakOSTxPv5eHhI7ud8znl/bm5y3/d8zjAopRRCCCGEEEK8gFHvAIQQQgghRNolyaIQQgghhEiQJItCCCGEECJBNnoHIERKMpvN7Nixgzt37mAwGPQORySBra0ttWrVIn/+/HqHIoQQbzRJFkWGtn37djw9PfUOQ7wiFxcXtmzZQuHChfUORQgh3liSLIoM7c6dOwCYTCaKFy8OgCwAkLYZDAYMBgPnz5/n3LlzNG7cmO3bt+Ps7Kx3aEII8UaSZFFkaDY2sS/x6tWrs23bNkCSxbTOmizu2LGD999/n+DgYJo0acLWrVtTPGF8/Pgxvr6+3Lt3D5PJlKJtieRjNptxdHSkVatWZM+eXe9whMhwJFkUbwSTyUSmTJn0DkMkQbNmzfjjjz/o2LEj58+fp2bNmqxcuZI6deqkWJuzZs1izJgxKVa/SFnff/89K1asoGTJknqHIkSGIsmieCNIb2L6VKNGDTZt2kSLFi24fPkyzZs3x9fXl7p166ZIe/fu3QOgcOHC1KlTR1436YDBYMBsNrNmzRoOHTpEs2bN2LRpE6VLl9Y7NCEyDEkWhRBpmpubG76+vnh5eXH16lVatWrFgQMHtDGoycl667lRo0YsWLAg2esXKeejjz6iefPmXLp0iebNm+Pn5yc9jEIkE1lnUQiR5lkTRicnJx4+fEjLli25ePFiirUXHR2dYnWLlOHh4cHGjRsxmUxawnju3Dm9wxIiQ5BkUQiRLrz33nts3ryZggULcubMGVq0aEFwcLDeYYk0pGnTpvj6+mJra0twcDBeXl6cPXtW77CESPckWRRCpBvvvfcemzZtIkuWLAQFBUnCKOJp2rQpmzZtws7OjuDgYFq2bEloaKjeYQmRrkmyKIRIV9zd3Vm7di12dnacOXMGLy8vLly4oHdYIg1p0qQJvr6+2NjYcP78edq1a6dNXhJCJJ0ki0KIdMfDw4MNGzZgZ2fHuXPnaNGiRYqOYRTpjzVhNJlM/PHHH7Rt25YHDx7oHZYQ6ZIki0KIdKlp06asX7+enDlzcvbsWVq0aMGxY8f0DkukIZ6enlrCuGvXLtq2bcu1a9f0DkuIdEeSRSFEutWsWTP27NmDk5MTQUFB1KxZk/379+sdlkhDmjZtip+fH7a2tvj7+1O7dm3Onz+vd1hCpCuSLAoh0rUyZcqwbds2nJycCAsLo0OHDoSEhOgdlkhDmjRpgp+fHzY2NoSEhNC4cWOZJS1EEkiyKIRI90qVKsXWrVspUKAAISEhzJ49W++QRBrTqFEjNm3ahMlk4sqVK3h4eEgPoxCJJMmiECJDKF26NM2aNQMgMjJS52hEWuTh4REnYfT09JSJUUIkgiSLQogMw7qXs9Eof9rEi3l6erJp0yZsbGy4dOkSXbt25fHjx3qHJUSaJn9RhRAZhjVZFOJlPD098fPzw97enoCAALZt26Z3SEKkaZIsCiGEeOM0btyYmjVrAhAREaFzNEKkbZIsCiGEeCNZe6JNJpPOkQiRtkmyKIQQQgghEmSjdwBCZDRmsxmlFAaDIVHllVKYTKZElxdCCCFSkySLQiSj6OhoOnXqRFBQUKJm5Fpvg/3444+UL18+pcMTQgghkkySRSGSkcViYc+ePdy6dStJ5929e/e12w4PD2fYsGHcvn2bb775hqJFiya5jlWrVrFkyRI+/vhjOnXq9NoxCSGESP8kWRQiGdna2rJgwQLu37+PwWDAYDBgY2PDkiVL8Pf3x8nJiXHjxmEymeIs8+Lu7v7abZ85c4a5c+cCsfvhvkqyOGPGDA4dOsStW7fo0KGDDPxP486cOcPOnTsTva6kxWKhUKFCeHl5pXBkQoiMRJJFIZKR0WikRYsW8R4/fvw4/v7+5M+fn65du6ZI26VKlaJv377cuXOHevXqvVIdQ4cOZfHixXzyySeSKKYD27ZtY9CgQUk6p2zZspIsCiGSRJJFIVJBVFQUEDv5JSYmBhub5P/Vc3BwYM6cOa9VR/v27Wnfvn0yRSRSWvHixalVqxY2NjYYDAZMJhMPHz7k4MGDADg7O1OiRAliYmKA2NdhjRo19AxZCJEOSbIohI6UUqxdu5br16/j5eVFnjx5WLZsGSdOnMDV1ZW2bduSL18+Tp06hb+/P2fPnsXGxoZSpUrh4eFBkSJFtLoiIiJYtWoV4eHhtGrVCicnJy5cuMBvv/1Gnjx5aNy4Mb6+vuzbtw8bGxtq1qxJ69atsbW11erYsWMHJ06coGzZstSvXx+AP//8k4MHD1KmTBlcXFxYv349p0+fxsnJCU9PT6pUqRLvuk6ePElQUBAPHjwgOjoag8GAxWLBxsaGjz76CEdHx5R/ct8ATZs2pWnTpnEeCw4OxsXFBYvFwuDBgxk4cGCKxmA2m3ny5In8TIXIwCRZFEJHZrOZMWPGcO7cOUwmE1u3bsXPz087fuTIETp27IiHhwcWiyXOudmyZePIkSMUK1YMgCdPntC7d29iYmJwcXHBycmJ/fv3M2jQIAwGA++++y5Xr17Vzp8zZw79+vVj5syZWk/nokWL8PHxoWPHjlqyuGrVKubNm4eDgwMxMTFaLynAuHHjWLVqldYbGR0dzZAhQ5gzZ06CW+81btxYEosUZO1FBOK9ZpKbxWKhZ8+e1KxZM8WGVwgh9CeLcguhs6xZswIwevRo9u/fz/Tp0+nbty8mk4nGjRtz+vRpLBYLnp6e/PLLL8ycOZOsWbPy5MkTli5dqtVjNBrJli0bgJb82dnZAbE9mP/88w8bN27k5MmTjB07FohNGA8cOKDVkTlzZgAyZcoU77Hw8HCqVavG3r17OXjwIG5ubiilGDx4MPfv39fq+/777zEajYwYMYLx48eTI0cOAD7++GNOnjzJu+++m/xPotA8m6QnlLCHhoZy4MABdu/ezdGjRxPc7u7y5cv89ddf7N27l7///jvOMbPZTL9+/ViyZAm3bt0iODiYs2fPJsvMfiFE2iI9i0LozLoYd1hYGAEBAdrM6B49elCqVClWrFjBvHnz6N27t3ZOtmzZ6N69O6dOnUpUG1myZGHPnj24uLgAUKZMGTZs2MCJEyc4e/Ys1atX/886ypUrx5YtW7TkccqUKXh6enLr1i0uX75Mzpw52bFjBwCTJk1i2LBhAFSvXp0GDRpw4MABXF1dE/msiJTy3XffMWnSJG7fvq095urqyrJly7S1PqOjoxk/fjzTp08nPDwciP3Q8P7777No0SIMBgN9+vRh+fLlAIwaNYpRo0ahlGLYsGFMmTIl9S9MCJFipGdRCJ1Ze3/69esXZwmdsmXLYm9vT+fOneMkijdu3NBuJ5vN5kS1kStXrjjjGw0GgzbR4Z9//klUHYUKFdISRYBKlSpp31vrsN4CfbYt6xI+wcHBXL9+PVFtiZQxdepUBg0axO3bt3F2dqZmzZo4Ojpy6tQpunbtytOnTwHYvn0748ePJzw8HHd3d2rWrElkZCSrV6/m7t27/PDDD/z222/aBx0HBwfy589Pnjx5cHBw0PMShRApQJJFIXRmTRYTWmvR3t4egJ07d9K8eXNKlCjBuHHjktSG2WyOM9YQ4K233orT/n95diwcxN6qtsZmTVrLli0LwKxZszh//jwXL15kzJgxQOzM3Fy5ciUpbpF8Hjx4wPjx4wEYMWIEp0+fJiAggLNnz1KpUiVOnDjB4sWLATh37hwATk5O7N27Vys3YMAALBYLnTt35tSpU5QuXRqITUKDgoIICgris88+0+cChRApRpJFIdKIhNY1DA8Pp2vXrjRo0IDdu3czbdo05s2bByQ+0XuR1zk3ofM/++wzGjRowJ49eyhVqhQlSpRgxYoVGAwGxo4dG2cspEhdR48e5cmTJ9jY2PDxxx9jNpt5+PAh2bJl0yYo+fv7A7FL8gBcu3aN/v37c/PmTYoXL86sWbMoXLgwjo6O5MmTR5tJny1bNrJnz07OnDnj9D4LITIGSRaFSCMSSt6WL1/Ojz/+SNmyZbl48SK9e/dOs5NEcuTIwahRo3BwcEApRb58+WjevDm7du3io48+0ju8N5p1C8qYmBiqVq2Kk5MThQoVwsnJiREjRgBw8eJFLBYLjRs31rZ7XLp0KW5ubmzcuDFOfdHR0dps68QOhxBCpE8ywUWING7fvn1A7CSEt99+G/h3L2nrrOeYmBht/JieHj58yPvvv4/JZOLIkSO4ubnJTjBphDWhy5s3L927d4+zrI7RaMRkMpE/f34gdhb9Dz/8QNmyZRk7diz37t3j/fffZ/LkyQwfPjxNvNaEEKlHkkUhUkFkZCTAC5cosT72/JhAqwoVKrBs2TJ++uknwsPDMZvNbN68GYi9bVixYkWmTJlClSpVCAsLA/5NDKx1Wme0Pis6Ojpeu9Zxjc+Ob7TG/qKJMNZ6re05OjpStmxZAgICGDp0KFWqVMHV1ZVKlSpptzaFPvLkyQPErsc5ePDg/xw/amdnx9ChQ2ndujVz585l6tSpjBgxAjc3t3gLgUvyKETGJrehhUgFRYsWxd3dnYoVK8Z5YzUYDFSsWBF3d3ftzfx5Xbt2pU+fPuTJk4fNmzfz6NEjJk6cSJkyZQDInTs3xYoVw2AwULt2bdzd3bVFr3Pnzo27uzs1atTAaIz76+7s7Iybm5vWmwTg4uKCm5sbJUqU0B4rUqQI7u7uuLm5xTnfaDRSq1Yt3N3dtbUUly5dyp07d1BKsXPnTiZNmkTHjh0pU6YM3bt3j7dWn0g9FSpUwMHBgbCwMD755JN46yGuXbtWW/Jmw4YN2hqezs7OTJkyBWdnZwBOnz4NxP78ret4PlvX1atXtQ8YQogMQgmRga1cuVIBqk6dOnqHosxms7JYLPEet1gsymw2/+f5oaGh6vr169r3jx49UleuXIlX1/NtJNSuUkrFxMTEOWaxWFRMTEySYrc+vmLFCgUoQHXr1k3Nnj1bTZo0SbVr1057vGnTpgnGkhw++eQTBaj+/fu/0vlDhw5VgOratWsyR5Z6goKClNFoVICaMWNGnGNffPGF9rMoWLCg6ty5s+rZs6eqV6+eAlT9+vWVUkqNGDFCAapRo0Zq4sSJasCAAcpgMChArV69Wqvvgw8+UIDKnz+/GjFihOrSpYsqWrSoCg0NTdVrflX169dXgFq5cqXeoQiRpsltaCFSyfM9e1YGgyFRt/Fy584d5/vs2bOTPXv2eHUltl2IPwPbYDC8cIzhy2K3Wr9+PQBDhw5l2rRpcco1adKE7t27s2vXLm7fvk3evHkTjEm8HrPZrI1HfH74wZgxYzCbzUyePJmrV6+yYsUK7ViuXLm0LfvKly+PnZ0d27dvZ/v27VoZb29vmjdvrn0/YsQIjhw5wuXLl5k8ebJWj8x6FyJjkWRRCJEsrEumXLlyhadPn2rbGALaYs9Go1GblCNShpOTE4sXLyY6Oppq1arFOWZjY8OECRNo1aoV+/fv586dO9jY2FCgQAEaNWqEk5MTAG3btqVMmTIEBgZy7do1DAYDlStXxtPTM059lSpVYu/evaxdu5YbN26QP39+ateuHednL4RI/+SvthAiWfTu3RsfHx/Wrl3LiRMnqFq1KkajkeDgYP78808AunfvHq+HVCQvR0dHunfv/tIyFSpUoEKFCi8tU7p0aW3R7ZfJmzcv/fv3T1KMQoj0RZJFIUSyqFWrFv7+/syZM4cNGzZw/vx57VjZsmXp0qUL/fr10zFCIYQQr0KSRSEyKPX/i3yn5rImtWvXpnbt2ly9epXLly8THR1N3rx5KV68uDZzVgghRPoiyaIQGYw1SVTP7AiT2uvgFSxYkIIFC6Zqm0IIIVKGJItCZCBKqTj/IDZRNBqNsnCyEEKIVyLJohAZjMViiZMsGo1GlFKSLIoE6dkLLYRI+yRZFCIDevbN/9nHJBEQz3v2g4WVvE6EEM+SZFGIDMZ629maHFrf+CUBEM+zJorWRbyf34pSCCFAkkUh0qWYmBggdgeW59/Un00Qn08YhXieddiCxWLBaDTK+FYhRDwJ7wMmhEiT7t69S7Vq1ShfvjwXLlyIc+zZySzWr+XNXyTk2Znz8hoRQiREehaFSGeioqI4dOgQ8O82es+TN36RGNYPFQaDQRJGIUSCJFkUIp2x9hhabxsKkZDly5dz4cIF6tatS4MGDV5Yxvp6evZ7IYR4liSLQryB/Pz8qFq1Krly5dI7FJFClFJ8//33HDx4kEePHr0wWXy2V/HZx4QQ4lnSLSFEOuPg4PBa58+fP58OHTrI9ntvAOtrJXPmzC8t9+ztaCGEeJ70LAqRxm3evJktW7Zw7do1MmXKRN68eeOtixcZGcnq1av5888/uX//Prlz56Zp06a8//77ccotWLCAPn36YDAY+Oqrr3BwcEApRY8ePShYsCABAQFs3LiRkJAQsmTJQsWKFfH29uatt95KzUsWaURkZCRhYWHkzJlT71CEEDqSZFGINGzkyJFMmjTphccMBgMmkwmlFN26dWPVqlVxji9atIiJEyfy+eefEx0dzbRp0xg5ciQQe4ty+vTpWlkPDw/279/Phx9+GCcRXbFiBevWrWPjxo04OjqmwBWKlPK6PYWRkZF069aNjz76iGbNmiVjZEKI9EaSRSHSqGXLlmmJ4ocffkirVq3InDkzgYGBfPPNN9rsVYvFwtq1a8maNSt9+/alYMGCbNu2DV9fX8aOHYu3tzeOjo6YzWa8vb1ZtmwZRqORYcOGabcpixYtysyZM1FK0a5dO2rVqsWpU6dYsGABe/bsYdGiRQwbNkzPp0MkwpkzZzh37hwGg4GiRYsmWO7gwYNcv36dbNmyUb58eXLkyBHneGRkJN7e3qxZs4ZGjRpx5coVzGYz77zzDlmzZgXgypUrHD9+HKPRiJubG4UKFUrRaxNC6EgJkYGtXLlSAapOnTp6h5IkUVFRytXVVQGqdevWcY49evRImUwmBaiTJ0+q8PBw5e3trU6dOhWnXOHChRWgduzYoT128OBBBaisWbOq8PDwOOUHDhyoFi5cGOcxT09PBShvb+9kvsKU8cknnyhA9e/f/5XOHzp0qAJU165dkzmylPXgwQPVs2dPZWtrqwAFKIPBoGxsbBSghg8frpRS6sCBA6pRo0ZaGUAVKlRILVmyJE5drVq10o4bjUZla2urTCaT+uWXX9TTp0/Vp59+qrJnz66VcXR0VBMmTNDr8l9Z/fr1FaBWrlypdyhCpGnSsyhEGnTp0iVOnz6N0WhkwoQJcY6FhYVpt4pjYmKwt7fnhx9+wGQyaWUOHjyo3YK07vYCEB4eDsTehg4LC9MmPiilmDBhAtmyZdPK/v3339qSKjLxIe2KiIjggw8+YNeuXQBUrVqVAgUKcOjQIa5cuQKg/RyHDBnCn3/+icFgwNXVlaCgIK5cuUK3bt0oXrw4NWvW5Ntvv8XPz0+r397ensyZM2OxWMiePTsrV65k2rRpABQpUoTIyEiuX7/O6NGjyZEjB3379k3lZ0AIkdJkNrQQaVBoaChKKfLnz0/hwoVfWtZoNGIymbh48SIzZ86kVq1aNG7cmJCQEIB4k2FexGAwkC1bNh49esTatWtp3749VapUYevWrYmuQ+hj+vTp7Nq1i8yZM7NixQoCAwNZu3Ytx44dw9XVNU5Zg8FAhw4dOHz4MEePHuXAgQPa62vPnj0A9O3bl4CAAGxsYvsSli5dytmzZzlz5gz16tUjJCSEkiVLsmbNGo4fP87Jkydp1aoVAOvWrUvFKxdCpBZJFoVIg7Jnzw7E9gQ+2zOYkHXr1lGmTBkGDx7Me++9x759+6hSpUqC5V80+eHGjRs0bNiQtm3bEhISwoYNGxg4cODrXYhIUdHR0axevRqAQYMG0alTJ+3n6ujoyDvvvAP8m+wvXLiQVatWUa5cOUwmE+XLl6dq1arAv73OefPmpUCBAlo9uXPn5u233yZv3rzY2trSuXNn9u7dS7t27ciaNSs5cuTAw8MDiO3ltFgsqfcECCFShSSLQqRBxYoVo2DBgty/fx8fH584x2xtbbWvbWxsiIqKol+/fkRGRuLj48P333+Pi4uLVu7ZpNB6OzIqKire7i+jR4/m0KFDdO/encDAQKpUqfKf6/MJfUVGRnL79m0AypUrF+eYUgqz2ax9DVCyZEkArl+/zqJFiyhfvjw///xznDIQm4RaPf9hpXTp0jg6OhIeHo6/vz+tW7fWPlTIjkJCZEzymy1EGuTg4ECHDh0AGDhwIBs2bCAkJISbN29y7do1rZzJZCI0NFRLGAoWLAjEjmt8+PChVsbaa2SdyRoVFcXy5cu5e/cu+/fv17aFAyhcuLA2/vHmzZsA2NnZERMTQ1RUVEpfukiCZz8I2Nvb/2f5mJgYvv76a0qUKEHPnj1xcnJ6aQ90Qvz9/alcuTINGzYkKCiIhg0bAkivohAZlCSLQqRRX3zxBY0aNeLp06d88MEHFC9enOLFi1O1alXtTTkmJoZ33nmHAgUKANC6dWs6deqEm5sbJ0+eBKBXr154e3sDUKJECSpUqADE3rYsVaoUVatW5eeff8bd3R2AMWPG0L59e6pXr86SJUuA2NvcVapU4eLFi6n6HIiXs7OzI3/+/ADaZJaX+eqrrxg9ejRFihTh6NGj+Pr68t5778Ur96LeaKuDBw/i4eHB6dOnWbZsGadOnaJz586veSVCiLRMkkUh0igHBwd8fHwYN24cpUuXJnfu3GTOnJm33npLm/hiMpmwtbVl/vz5FClShJs3b7J+/Xrq16+Pt7c3NjY23L17V0sEHRwcWLNmDZ6enmTNmpUHDx7g5OREixYtGD9+PE2aNMHOzo5ffvkFR0dHxo8fT9asWXny5Ak5cuTQEhORNtja2lK7dm0AFi9erPUww7+LtgPa/9bxjV9//TVly5YF/r3N/OzwBltbWy1hfDYJvXXrFgsWLCAmJoYPP/yQLl26YDKZtNvWJpNJbkULkQHJ0jlCpGGOjo6MGTOGESNG8PTp0zjjygwGgzYRxsvLi9q1axMaGkr27Nl5++23iYmJ4fPPPydnzpy8/fbb2nlFixblt99+49q1a0RFRZErVy5tOz8/Pz9tyRzrLe3OnTtjsVhwdnaWJXTSoFGjRrFp0yZOnDiBu7s7jRo1okCBAtjY2BAUFBSnrPXnt2bNGlxcXAgJCWHTpk0AXLt2jY0bN9KoUSNy5cpF8eLFOX36NKNHjyY0NJR9+/Zx8+ZNXFxcANixYwd79uwhV65cLFu2DIgd/rBhwwZy585NrVq1UvFZEEKkJEkWhUgHbG1t4+2y8bzs2bNrySPETn6xvrG/iJOTU7zHTCYTzs7OcR6TnTnStnz58vH777/j7e3NwYMHWblyZbwyYWFhAHh7ezNmzBhWrVrFqlWrMBqN2i4+P/zwA9u3b+fs2bPY29szefJkWrduze3bt7VtIosVK0afPn3w8/Pj3r171KlTB4PBoNVx9OhRPvjgA5YvXy7JohAZiCSLQgiRzpUqVYpdu3Zx4sQJQkNDsVgsWi+iUopixYoBsTPea9SowZkzZ7C3t6dSpUrkypWLzZs3YzKZqFOnjjYD3svLixMnTnD48GFu376Nk5MT5cqVo1ixYuzfv5+//vqLsLAwSpYsSalSpdi5cyf379/H3d2d6tWr6/ZcCCGSnySLQgiRAWTJkoVq1ar9Z7l69epRr169OI/16tXrhWVdXFxe2DttnWz1rE6dOiUhWiFEeiIjkYUQQgghRIIkWRRCCCGEEAmSZFEIIYQQQiRIkkUhhBBCCJEgSRaFEEIIIUSCJFkUQgghhBAJkmRRCCGEEEIkSJJFIYQQQgiRIEkWhRBCCCFEgiRZFEIIIYQQCZJkUQghhBBCJEiSRfFGMJlMeocgUoGtra3eIQghRIZjo3cAQqSGq1evsmbNGsxms96hiBRiY2PD6dOnAVBK6RyNEEJkHJIsigwtJiYGgODgYNq3b69zNCK1yIcCkRgGg0HvEIRIFyRZFBla3bp1yZcvHzdv3sTW1pYOHTpgNpul5ymDUkqRJUsW+vTp81r1yO3sN8M///yjdwhCpAuSLIoMrWDBgnTv3p0JEyZgNptp27YtXl5eeocl0ijrh4idO3fSr18/LBaLzhGJlGAwGIiMjGTv3r2A9EQL8V8kWRQZXufOnZkyZQpRUVF8+umnNGzYkEyZMukdlkiDrD2KwcHBBAcH6xyNSC3y90CIl5NkUWR4JUqUYOTIkXz55ZecO3eO+fPnM2jQIL3DEmlQ9+7dCQsL4/HjxzKDPoMymUwcOnSIY8eOAeDp6UmTJk10jkqItM2gZPCWeAPcvHkTd3d37t69S/78+Tl58iQ5c+bUOywhhA4aNGjAzp07MRgMnDhxAldXV71DEiJNk3UWxRshX758jBs3DoAbN24wdepUnSMSQuhh1apV7Ny5E4B+/fpJoihEIkjPonhjPHz4kKpVq3Lu3DkcHR05ceIE7777rt5hCSFSSWRkJOXLlycoKAhbW1uCgoIoVqyY3mEJkebJmEXxxnB0dGT8+PG0a9eOhw8fMn78eBYuXKh3WGnGjRs3mD17Nmaz+T/Xn1NKYTAY6N27N4ULF06lCIV4PQsXLiQoKAiAzz//XBJFIRJJehbFGyUiIgIPDw/27NmDra0tf/31F5UqVdI7rDThyJEjVKhQIUnn/PHHH9SpUyeFIhIi+YSGhlK+fHmuXbtG/vz5OXDgAAUKFNA7LCHSBelZFG+UzJkzM23aNCpXrkx0dDRDhw5lz549eoeVJhiN/w5h7tatG2+//Xa8dQYNBgPh4eHMmzcPs9ksM4ZFujF27FiuXbsGwNSpUyVRFCIJpGdRvJF69OjB4sWLAVizZg3t2rXTOSL9HTt2jEElJxYAACAASURBVHLlygFw6dKlBG8vR0RE4OTkxP379wkICKBmzZqpGaYQSXb+/HnKli1LREQE5cuXJyAgAAcHB73DEiLdkNnQ4o00dOhQrVfs66+/Jjo6WueI0pbw8PAEj4WFhcl2iSJdGTduHBEREdrXkigKkTSSLIo3UsmSJRkxYgQAJ06cIDAwUOeIhBAp4fLly/z8888ANGzYUBbgFuIVyJhF8cbq06cPs2bN4smTJ4wdO5Zt27ZhZ2end1hJcunSJf7++2/+/vtvQkNDcXBwoECBAjg5OVGkSBGyZ8+ud4hC6GrRokXa3s9jxozBxkbe9oRIKvmtEW+sAgUKMH78eAYNGsTu3bvZsmULLVu21Dus/xQeHo6vry/ffvsthw4dSvCW8DvvvEPHjh3p378/RYoUSeUohdDf+fPn+eabbwD48MMPZXytEK9IbkOLN1qXLl1wcnICYPTo0Tx58kTniF7u999/p2LFinTo0IELFy7Qu3dvtm3bxsmTJ7lw4QJnzpzhwIEDfP/99+TPn58ZM2ZQrFgxhg8fzsOHD/UOX4hUNWPGDG3d0OHDh8eZ8S+ESDz5zRFvtBw5cjBx4kQATp06xdq1a3WO6MUsFguTJ0/G09OTK1euMGPGDC5evMjcuXNp1KgRrq6uFCtWjJIlS1KpUiX69evHkSNHCAwMpHbt2kydOpV69eoREhKi96UIkSqOHj3KggULAOjZsyfly5fXOSIh0i9JFsUb74MPPqBo0aIADBs2jKtXr+ocUVyPHz+mRYsWfP755/To0YPg4GAGDRpEzpw5X3qewWCgWrVq7Nq1i19++YVz587h6urK5s2bUylyIfQRFRXF8OHDUUphZ2enTWYTQrwaSRbFGy9LliwMHz4cgHv37jF//nydI/pXdHQ0AwYMwM/PjzFjxrBw4ULy5cuXpDoMBgNt2rQhMDAQe3t72rRpw+HDh1MoYiH0t23bNnbs2AFA+/btcXZ21jkiIdI3SRaFALp27YqbmxsAU6ZM4fz58zpHFOunn35i+fLldOnShXHjxr2wjNlsZs6cOTRr1owvvvgi3q4rVmXLluXXX38lMjKSjh07auvOCZGRhIeH89VXXwHg4ODA6NGjdY5IiPRPkkUhAFtbW+1NxWw2M3PmTJ0jio1j2rRpFCpUiDlz5rywzOHDh2nWrBn9+/fnt99+49dff33pgtm1a9dm+vTpnDt3jtmzZ6dU6ELoxtfXl0OHDgGxHwKLFy+uc0RCpH+SLArx/9q1a0eNGjUAmD9/PsePH9c1nmXLlhEUFMTEiRPJmjVrvOO+vr5UqlSJrVu3akvjJGZnik8++YSiRYsyZcoUnj59muxxC6GXhw8fMnbsWAAcHR1lrKIQyUSSRSGe8cUXXwCglOKbb77RdVu75cuXU6RIET766KMXHp8zZw6FChViy5Yt2m23xMSbPXt2Ro4cyb179zh16lSyxiyEntatW6cNIendu7e2LJYQ4vVIsijEMxo3bqxtB7Z69Wr27dunSxz37t1j7969NGjQIMEyEyZM4PDhw3h4eBATE5Ok+qtVqwbA/v37XytOIdKKe/fuab2KuXPn5tNPP9U5IiEyDkkWhXjOl19+qW0J9tVXXxEZGZnqMRw/fpyoqCgqVqyYYJlKlSppy+cktQe0ePHiFCtWjJ07d75WnEKkFT/88APXr18HYPjw4eTKlUvniITIOCRZFOI5VatWpWfPngBs3bqVX3/9NdVjuHz5MgB58+ZNkfptbGyoWrUqQUFB2r65QqRXFy5cYNSoUQC4ubkxaNAgnSMSImORZFGIFxg9ejSOjo4ALFmyJNXbv3btGgDZsmVLsTYKFCjA3bt3+eeff1KsDSFSw7x587ShGKNHj8bW1lbniITIWCRZFOIF8uXLR69evYDYBX5///33VG0/e/bsACmayD169AgHBwd5YxXp2vHjx7WlrqpWrUrbtm11jkiIjEeSRSES8Nlnn2m7pXz99dep2rZ1x4knT56kWBvBwcE4OTlhZ2eXYm0IkdJWrlypjdkdNWoUBoNB54iEyHgkWRQiATly5NDGPv3555+sWbMm1dq2JosXL15MkfofPnzIX3/9Rfny5VOkfiFSw507d1ixYgUADRo0wMvLS+eIhMiYJFkU4iX69euHi4sLABMnTiQqKipV2i1dujROTk4EBgYmqvyzvSmJ6Vk5deoUERER1K9f/5VjFEJvU6ZM4datWxgMBtnWT4gUJMmiEC+RJUsWunXrBsCJEyf44YcfUqVdOzs76tevz7Zt27h9+/Z/ljcaY3+VDQaD9vXLrF+/HkB6FkW69ffff7Nw4UIAvLy8qFu3rs4RCZFxSbIoxH9o3749mTNnBmD69OmEh4enSrtDhw4lKipKW2j4eYsXL6Zy5crUq1dPWzbkwIED1KxZk8qVKzNp0qQXnnfmzBlmzJhBrVq1tG0ChUhvvv76a548eYLRaGTMmDF6hyNEhibJohD/oWDBgkyfPh2IHUOYUBKW3Nzd3enduzcLFixg3bp18Y7fu3eP0NBQLl++jIODA25ubpQqVYobN25w584d7t+/H++cBw8e0LVrVwwGAzNmzJDJACJd2rdvH4sXLwbA29ubSpUq6RyREBmbQem5+a0Q6cTjx4+pXLky586dI1u2bJw5c4YCBQqkeLuXL1+mZs2a3Llzh927d2vb9FkltM2fUirekjhms5mPPvoIHx8fpk+fzpAhQ+IcP3bsGOXKlQNixzSWKVPmhXXfvXuXEiVK8ODBAwICAqhZs+arXp4Qr6R58+Zs3rwZiJ18VqNGDZ0jEiJjk55FIRIhe/bsfPnll0Dscjap1bvo7OzM+vXriYmJoWHDhmzbti3OcRsbmxf+ez5RfPz4MV26dMHHx4devXrFSxSFSC92796Nn58fAO3atYv3AUoIkfwkWRQikZo3b07ZsmUBWLZsGSEhIanSbuXKldmyZQsmk4kmTZowY8YMIiIiEn3+3r17ady4MatWraJv3758//33KRitEClr4sSJ2rqKn376aaImdAkhXo/8lgmRSFmyZNEmmzx9+jTVehcBmjRpwt69e6lUqRJDhgyhSpUqLFmyJMGZ0kopAgIC6NOnD9WrV2f//v18++23zJkzBxsbm1SLW4jktGPHDrZv3w5Ap06dZKyiEKlExiwKkQT//PMPDRs25K+//iJz5swcPXpUW4cxNYSHh7Nw4UImT57M7du3yZw5M/Xq1SN//vy8/fbbREREcPPmTU6dOsXp06cB6NKlC4MGDdLGIyZExiyKtK5evXr88ccfABw+fFiWfhIilUgXgxBJkClTJkaPHo2npycRERFMnDiRZcuWpVr7Dg4ODBo0CG9vb7Zu3Yqfnx8nTpxg//793L9/H1tbW5ycnHB2dqZjx454enpqt86FSM/8/Py0RLFr166SKAqRiqRnUYgkio6OpkmTJuzatQs7OztCQkLInz+/rjE9fPiQhw8fkilTJnLmzPlK+z1Lz6JIy2rVqsWff/4JxC6Q7+bmpnNEQrw5ZMyiEElka2urjV2MiopKtV1dXsbR0RFnZ2fy5s37SokiEGcG9fOzqZ8vZ12f8WXlhEguGzZs0BLFvn37SqIoRCqTnkUhXlGXLl1YsWIFJpOJM2fOULx48WRvIzIykjt37iR7vc8zGAycPn0aDw8PAPz9/SlRogTP/3kwGAzcu3ePWrVq8eTJE9avX0/lypWxWCwpHqNIOUopHBwcyJ07t96hxBMdHU25cuU4ffo09vb2XLhwgXfffVfvsIR4o0iyKMQrOnz4MBUrVgRgyJAh2i4vyWn27NmMHDkySUvlvCqLxaIlhy/bY1oppSWHid2LWqRtBoOBggUL4u/vj7Ozs97hxBEYGKgtuv31118zcuRInSMS4s0jE1yEeEXly5ena9euLF26lO+++44ePXpQsmTJZG3j0qVLPH36lC5dumAymZK17ucZDAZtWZ2YmJh4vYrPst5+/q9yIu0zGo0EBweze/durl+/nqaSRYvFwrRp0wDInDkznTt31jkiId5MkiwK8YoMBgP9+/dn6dKlmM1mFi9erL2xJWcbWbNmTdUZ1+LNs23bNnbv3p3meon37t3Lhg0bABg1apTcfhZCJ2nrL4MQ6UzZsmWpWrUqADNmzODMmTPJ3oZSivDw8GSvVwirf/75R+8Q4rFYLHz77beA9CoKoTdJFoV4DUajkWHDhgGxb26LFi3SOSIhMobAwEDWr18PwIgRIyhYsKDOEQnx5pJkUYjX1KpVK20A/nfffZcivYtCvEksFgszZ84EwGQy0aVLF50jEuLNJsmiEK/JYDAwYcIEDAYDFouFiRMnyqQPIV7Dzp07WbduHQAdOnRIU5NuhHgTSbIoRDKoW7cujRs3BuCnn37i8OHDOkckRPoUExPDpEmTALCzs2PUqFE6RySEkGRRiGQybNgwbWeT2bNnv/G9i0opdu3axU8//YSPjw/nzp2Lc3z//v1MmjSJ8+fPv1Y7Dx48YMiQIRw9evS16tHT9evXmTp1KoGBgUk+NzIyki+++ILNmzenQGSpLyAggJ07dwLw4YcfJvtyVEKIpJOlc4RIJg0aNKB+/fr4+/uzfPlyBg0apO21nJ4cP34cPz8/qlevTt26dV+pjtDQULp27Yqfn5/2WJs2bfjll18AMJvN9O7dm2PHjhEUFMSKFSvinH/nzh3Wrl2LxWKhX79+WhL+vLCwMNq2bYu/vz85c+akXLlyHD9+nF27dpErVy5tBm1UVBSrVq3iwYMHlCtXLtHXFRISgo+PD87Oznz44Yev8lQkypdffsnixYupXbs2u3fvTtK5V65cYfz48WTPnh1/f39tofj0yGw2azOgbW1ttcljQgh9Sc+iEMlo+PDh2tdz587VMZJXN336dEaNGsXp06dfuY41a9bg5+eHs7Mz8+fPZ86cOXTs2FE7bjKZaNCgAe+88w6VK1eOd/6BAwfo168fq1atSjBRBPjss8/w9/fHy8uLAQMGALEJ5ODBg+nSpQtr164FYM+ePXTt2pUhQ4YkaWvCjRs3MmLECHbt2pXoc15FvXr1yJcvH1WqVEnyuSVKlGDBggU8fvwYb2/vVNntJ6Xs27dP6yF9//33ZQ9oIdII6VkUIhk1btyY2rVrs2fPHn744QcGDBiAu7t7qsawa9cuLl68SN68efH09Iy388v+/fs5f/48UVFR5MuXj7p16+Lg4MCZM2cIDQ3V9qI+f/48+/btIyIiAnd3d3LlypXoGEJCQgAYOnQovXr1inPs+vXrnD17Fg8PD0qWLEn9+vW1Y48ePSIoKIhjx44BsYlfQEAAMTEx5M6dO07ysHv3bubMmUOOHDmYN28eb731FgDVq1dn8ODBzJgxgylTptC8eXOmTp0KQOfOneO0l5BLly5x8+ZN7Rb5rVu3CAwMJDIykjJlyvDOO+9w6dIlgoODqVy5Mrdu3WLv3r0ULVqU2rVra/XcvXuXI0eOcPPmTSwWCy4uLlSvXl07fvXqVS5cuICzszNff/017733Xpw4rl27xrlz56hcuTLBwcEcP36cMmXKUKlSpTjlevbsib+/Pz4+PkydOpUvvvjiP68xrbFYLMyYMQOI/TDx7AcvIYTOlBAiWW3evFkBClBjxox5rboGDx6ssmTJosLCwv6zbHh4uOrcubPWNqCaN2+uQkNDlVJKPXjwQHXs2DHOcUD9+eefSimlmjVrFu+Y9Z+Pj0+i4r18+bI6efKkatu2rQLUpEmTVFBQkDpx4oR68OCBUkqpyZMnx6l72LBh2vm7du1KMIZq1arFaatdu3YKUDNnzowXx5UrV1SWLFkUoF2zg4ODunDhQqKuo0+fPgnG8eOPPyqllBo6dKgCVP369ZWdnZ12fO7cuUoppZ48eaJcXV3jnf/NN98os9mslFJqxIgRcY516NAhThxTpkxRgPL09NTKGI1GtW7dungxb9++XQGqcOHCKjIyMlHXabVx40YFqMDAwCSdl5z2798f53UrhEg7JFkUIgXUrFlTAapYsWLq6dOnr1xPUpLFMWPGKEC1atVK7dixQ3300UcKUP369VNKKbVy5UoFqHz58qmNGzeqHTt2qOnTp6uQkBCllFKbNm1S06dPV+XLl1eAatmypfruu+/U1KlTE51k1a5dO8Eka/HixUoppQ4fPqy+/fZbVa1atXjJ4vXr19V3332nvL29FaAKFSqkpk+frqZOnRonQXr69KnKnTu3MhgM6syZMy+MZcaMGXHaHzlyZKKuQSmldu/erWbMmKG8vLwUoKpUqaJmzpyppk6dqoKCgpRSSn366ada3XXr1lVffPGFAlTevHlVZGSkevLkierdu7eaPXu22r59u/rxxx+Vvb29AlRwcLBSSqnAwED17bffqu7duytAtWnTJk4cU6dO1dpo2rSp6tChgwJUuXLlVFRUVJyyjx8/VoUKFVKACggISPS1KpU2ksVOnTopQBkMBrVnzx7d4hBCxCfJohApYNOmTcpgMChAffvtt69cT2KTxbCwMOXs7KwANWPGDBUYGKgmTJigAOXq6qqU+jdZdHBwULNmzVKnTp16YV09e/ZUgFq4cGGS4128eLEaMWKEcnNz03rERo4cqYYNG6YOHjwYp+ywYcMUoIYPHx6vnt9//10BqkGDBi9s5+jRowpQzs7OKiIi4oVlgoODldFoVIAymUxakpcUc+fOVYAaNGhQvGPW+MuVK6ceP36slFLqgw8+UJUqVVL37t3Tyt24cUMdOnRI+fv7qwoVKihA7d+/P05df/zxxwuTxWnTpilA1a5dW8XExKg7d+4og8GgcuTIEacNq969eytAzZ49O0nXqXeyuG/fPi0p9vLy0iUGIUTCZMyiECnAy8uLhg0bsn37dmbOnEmPHj3ImjVrirV3//59bty4AcCQIUO0ZXuMRiN2dnaYzWZatGhB69atWbduHQMHDgSgatWq/Pjjj7i4uGh1RUdHA7FLsiRV9+7dAQgPD+fkyZN07dqVtm3bvrCstZ0XsbZtNptfePz+/fsAODo6Ymdn98Iyy5cv1yazmM1mpkyZwtKlSxN3Ic/FERUVlWCZ+vXrky1bNgB+/vlnLBYLdnZ2hIeHM2TIEBYvXpzgdVj916SUqlWramNPTSYTKvaDfrxyRYoUAWJno6cnK1euBGJfr1999ZXO0QghniezoYVIIf/73/+A2EkM8+bNS9G27O3tsbW1BWDLli3a5Ivg4GB8fX0xGo1kzZqVtWvXcvbsWSZPnkyBAgXYt28f48ePj1OXNQmxsUn4s+S9e/dYunQpQUFBLzxuTQRflgRZk58XtWONIaGZ0M7OzhgMBm7cuMHTp0/jHT99+jQTJkzAaDTSv39/AJYtW8aePXsSjOdFnk26E/JsUm1ra4u9vT0Gg4EtW7awYMEC3n77bXbt2sXVq1dp0qTJC+uw/uyen4xkZX0+LRYLSqkEn5dLly4BsUl0evHw4UNtSaVmzZpRvnx5nSMSQjxPkkUhUkizZs20PaOXLFnCP//8k2Jt5cyZk7JlywLg6+uLvb09OXPm5J9//iEmJgaDwcDZs2cJDAwkT548DB48mEGDBgFos5+trD11hw4d4saNGwQHB/Pw4UPtuFKKAQMG0K1bN2rUqMHff/+dpFhv3LjBhQsXuHfvntZ+cHAw165d08pkzpwZgLNnz3L69Gn+/vtvrl69qh3Ply8fefLk4c6dO1y4cCFO/RaLhfHjx2OxWKhfvz4zZ87Ey8sLpRSfffZZkpbOsSZxJ06c4OrVq1y+fDnOc/Ff1wlQvHhxypQpw4EDB/D3949T5tatW1y4cIErV64AsQuMX7hwQXtOX7Zs0PPCwsLYunUrQJwZ12ndvHnzuHXrFvDvBywhRBqj2w1wId4Az06yeJUxgEmZ4BIQEKCyZcumTRKwztDt0aOHUkqpb775RgHKzs5OOTo6auV++eWXOPX8/vvv2nhLax3PljGbzapu3bradZ09ezZeLN26dVOAWrRoUZzHLRaLqlOnzgsnwFSoUEFFR0crpZS6efOmKlCggHbMZDKp+vXrx6nLOht67NixcR7ftGmTdt727duVUkrt2bNHe2zatGn/+VxaHThwIM64R4PBoJYvX66UUmrAgAEKUJ988skLzw0MDNSeR2sdNjY2ClB79+5VSinVqlWrFz4XZcuWVUr9+zPr3bu39rxYY7lz506c9nbs2KEA5ebmpmJiYhJ9jUrpN2YxPDxcFS1aVAGqTp06qdq2ECLxZMyiECno/fff57PPPiMqKor58+fTvXv3l97SfB01a9bk+PHjLFiwgEOHDmFnZ0eZMmXo0KEDAB4eHly9epVz584RExNDiRIl6N69e7xFsZs0acKOHTtYtmwZ165do2DBgnHWNzQajUyfPp3x48fTtm1bihcvHi+Wli1b8tZbb73wluKHH35IuXLlsLW1xWg0YrFYiImJoVChQtpzkzdvXgICApg7dy7Hjx/H3t6eli1bxqmnf//+/PLLL0yYMIE2bdrg6uqqHRswYAAuLi40bNgQgBo1avD9998THByMg4NDop/TSpUqERAQwLJlywgODiZXrlzac+Hh4QGg7Qn+vGrVqvH777/z448/8ujRIzp37ky+fPn47bffcHJy0p6nQoUKYWNjo41FjI6O5t133wViewgHDhyotZE1a1bGjBmDnZ1dvOuwDnXo1q1bgrez05rly5dz8eJFAG1RdSFE2mNQ6g3fwFaIFDZq1CgmTpwIwNq1a2ndunWizx0yZAgLFy7kzp07SUpy3hT/+9//mDVrFmXLlsXX11dLsl5GKcXNmzcxGAzxbvMqpbCxsSF37txJugWsJ4vFwuzZsxk0aBB16tTB398/ycmir68vLVu2JDAwkGrVqqVQpHHFxMRQuXJljh49SoUKFThw4ECKfZASQrwe+c0UIoV17txZexOcPXu2ztFkLJMnT6Zp06YcO3Ys0dsrrl69GmdnZ5ydnSlUqFCcf87OztSpUyddbZl3/PhxBg0aRKFChVi+fHm66VX09fXl6NGjALRt21YSRSHSMLkNLUQKK1myJMOHD2fy5Mns3r0bX19fWrRooXdYGULmzJlZvXo1a9asoWnTpok6x83NjTFjxryw51ApRY4cObSJLelB6dKlWblyJa6urhQsWFDvcBLFbDZrve1ZsmThww8/1DkiIcTLSLIoRCro2rUrU6ZMwWKx8N1330mymIyyZ89Ojx49El3ezc0tzhjM9M7e3p6PPvpI7zCSZNOmTRw+fBiIHWrh7Oysc0RCiJeRfn8hUkGJEiXo2rUrAH/88Qf79u3TOSIh9GMdMmAwGKRXUYh0QJJFIVKJdXcTi8XCzJkzdY5GCH0cOnSInTt3ArHjeUuXLq1zREKI/yLJohCppHLlytoSKL6+vtqSIf/FYDDITGiRojJlypRqbc2ePVvb/vCTTz5JN7POhXiTyZhFIVKJyWRi4MCBbNu2jYiICGbNmsV33333n+dFRESwdOlS7O3tk7T7iBCJYWdnpw2LSOnX17Vr1/j1118BqFu3LlWrVk3R9oQQyUOSRSFSUZ06dShTpgynT5/Gx8eHr7766qX7+GbJkgWz2Uy3bt1SMUrxpsqRI0eK1j9v3jweP34MxK6RmZ5mnQvxJpNFuYVIZUuWLNHGL06dOpVPP/00wbLXrl1j7969KKVS9HadyWTi0qVLDBs2DIDp06fj7Oys3S60MhqNPHr0iP79+xMREcG4ceNwdXUlJiYmxWITKU8pRc6cOWnQoEGKvc7Cw8NxdXUlJCSEIkWKcOTIEd56660UaUsIkbwkWRQild25c4dy5cpx48YNXF1dOXz4MHZ2dnqHxfnz53FxcQHg0qVLFC5c+IXlwsPDeffdd7l//z6HDh2iQoUKqRmmSKfmzZtH3759AZg/fz69evXSOSIhRGLJBBchUtk777zD559/DsCpU6c4cuSIzhHFCg8Pf+HXLypn/YyZnnY6EfqJjo7Wlst55513aNu2rc4RCSGSQpJFIXTQrFkzbGxihwz7+PjoHI0QKevs2bOcPn0agIEDB5IzZ06dIxJCJIUki0LooHDhwvTp0weAOXPmcOXKFZ0jEiLl/Prrr9q425YtW+odjhAiiSRZFEIn1i3aoqKi8PPz0zkaIVJGaGgoM2bMAKBNmzaUKVNG54iEEEklyaIQOqlYsSJ169YFYNasWdqSIkJkJP7+/jx48ACAjz/+WBbhFiIdkmRRCJ3Y2NjQr18/AM6dO8eePXt0jkiI5BUdHc2cOXMAKF26NLVr19Y5IiHEq5BkUQgd1alTR9vKb8mSJbJDi8hQDh06xJ9//gnAgAEDyJo1q84RCSFehSSLQujo7bffplGjRkDsJICzZ8/qHJEQyWf9+vVA7KLv1n3RhRDpjySLQuhs4MCBQOwuGqtXr9Y5GiGSx5UrV5g9ezYA9evXp0iRIjpHJIR4VZIsCqGzevXqUblyZQDmzp1LaGioLnFky5YtyedkyZIlBSIRGcHvv/9OZGQkAJ07d9Y5GiHE67DROwAh3nQGg4HWrVtz4MAB7t+/T0BAAB988MFr1bllyxZWr16d6GTOaDRy9+5dLZ7ExAwwbtw48ufPn+ixlmFhYTRo0ABvb+9ElRfpU0REBAsWLACgUKFCtGnTRueIhBCvQ/aGFiINuHXrFi4uLjx+/BgvLy98fX1fa4mRhw8f0qZNG/z9/V/p/BMnTuDm5vbCY6GhoTg5OREVFZXkeitUqMC6desoVKjQK8Ul0oeAgABt5nPv3r2ZN2+ezhEJIV6H9CwKkQbkzZsXDw8PfHx88PPz4+TJk7i7u79yfY6Ojvj4+NC+fXu2b9+uPdapUyciIyMT7AlUSmFra0uuXLkSrDtTpkwMGDCA+/fvYzS+eCSL0WjExsaG5cuXExYWBkCjRo3w8fHB0dHxla9LpA+//vorENsD3b17d52jFpE8aQAAIABJREFUEUK8LulZFCKN2LZtG02aNAFg/PjxjB49+rXrfPToEV26dMHX1xeTycTMmTPp37//a9ebGN9++y3Dhg3DYrHg5eXF6tWrZemUN8DNmzdxcXHhyZMn1KhRQ1s6RwiRfskEFyHSiIYNG2q3fhctWsSjR49eu8633nqL1atX06ZNG8xmMwMGDOCrr7567Xr/y9SpUxk6dCgWi4X333+fNWvWSKL4hti9ezdPnjwBkLGKQmQQkiwKkUYYjUZatWoFwNWrVwkMDEyWeh0cHPjpp5/4+OOPAfjyyy/57LPPiIiISJb6nzdr1iyGDx8OQMeOHVm9erW28LjI2MxmMz/99BMAuXPnllnQQmQQkiwKkYb06tVLS6xWrlyZbPXa29uzdOlSxo8fD8CUKVPo3Llzsu4Yo5Ri8ODB/O9//wNgxIgR/PTTT2TKlCnZ2hBp28mTJ/Hz8wOgadOmLx37KoRIPyRZFCINyZ8/P3Xq1AFgzZo1hISEJGv9o0ePZurUqQCsW7eOoUOHEhMT89r1ms1m+vfvz8yZMwEYPnw4kyZNeu16Rfryxx9/aF+3b99ex0iEEMlJkkUh0hjrreiYmBgCAgKSvf5PP/2U7777DoCZM2fSr1+/V1oGxyomJoZevXoxd+5cIHYP4AkTJiRLrCL9iIj4P/buO6yps/0D+PckDFmKoiDgREQUVBAXr4ijWqviXlXrwN066mh9rdXWtta9X62jVotWq9SNW1w4UKniQMWNiKgogmySkPv3R37nlEgYWiAB78915bqUnJzcSc64z3Oe537S8dtvvwEA6tSpg7Zt2+o5IsZYYeFkkTED06dPH9ja2gJAkSSLgGaKwRUrVgAA1q1bhxEjRkizbbwLpVKJESNGSEnCV199haVLl8LY2LhQ42WG7+rVq4iIiAAAfPTRRzA1NdVzRIyxwsLJImMGxtraGm3atAEAnDhxAhkZGUXyPuPHj8fEiRMBAJs3b4a/v/87JYyZmZkYNmwYAgICAADTp0/HggULIJfLiyReZtjEep6CIGDgwIF6joYxVpg4WWTMAPXv3x8A8PDhQxw6dKjI3mfp0qX4+uuvAQB//vknBg4cWKBR0mq1Gv7+/tLI1x9++AE///zzv5p1hpVciYmJUutyo0aN4O3treeIGGOFiZNFxgzQxx9/DCcnJwDA7t27i/S9FixYgO+//x6AZtBL3759pVlXdMnKysJXX32FP//8EwAwd+5cfPfdd0UaIzNsV65cQXR0NADNtssXDYyVLpwsMmaAzMzM4OPjAwA4e/bse/UnfBezZs3Czz//DADYv38/unfvjqSkpBzLqVQqjB8/HkuXLgUALFq0CNOmTSvS2JjhCwsLA6CpFcqjoBkrfThZZMxAffbZZwCAR48eSbXritL06dOxZcsWyOVyBAcHo3fv3khMTJSef/36NXr06IHVq1cDADZt2oQpU6YUeVzM8J0+fRoA0KRJk381pzljzDBxssiYgWrTpg1cXV0BALt27SqW9xwwYAD27NkDExMTHDt2DD169EBSUhISExPRs2dP7N+/H4BmlhaenYMBQGxsLEJCQgBAGpjFGCtdOFlkzEAZGRnhP//5DwDg3LlzRTY939v8/PwQFBQECwsLnDp1Cn5+fujRo4fUerRu3TqMHz++WGJhhm/Pnj1ITU2FIAjo27evvsNhjBUBThYZM2DNmjUDAERFReH48ePF9r4ff/yxNNL5zJkzOHXqFARBwMaNGzFy5Mhii4MZviNHjgAAPDw8+BY0Y6UUJ4uMGbCmTZtK/y6uW9Gi7t27Y9u2bdL///jjDwwdOrRYY2CGLTExEefPnwcAeHt7c41NxkopI30HwBjLXb169eDl5YXLly/j0qVLUCqVxTo7Sr9+/QAACoUCAwYMKLb3ZSVDcHAwXr16BQDo3bu3nqNhjBUVbllkzICZmJigT58+AIDbt2/j9u3bxR5Dv379eDAL0+nw4cMAgJo1a6J58+Z6joYxVlQ4WWTMwHl6egLQzJoSFBSk52gY0yAiXLt2DYBm1hYzMzM9R8QYKyqcLDJm4Bo2bIiyZcsC0IyKZswQ3Lt3T0oWvby89BwNY6wocbLImIGzs7OT+g6GhoYiPj5ezxExBuzYsQNKpRKAphg3Y6z04mSRsRKgdevWADSjT48dO6bnaBgDLl68CACwtLSEu7u7nqNhjBUlThYZKwEaNGgAQRAAAEePHtVzNOxDl5KSgsuXLwMAOnXqhMqVK+s5IsZYUeJkkbESoHbt2vDw8AAA3LhxA2q1Ws8RsQ/ZpUuX8PTpUwCaAu6MsdKNk0XGSgBTU1N07NgRgKaEDvdbZPokTv0IQJq/nDFWenFRbsZKiIYNGwIAUlNTcerUKan+Ym4yMjJw48YNZGVlSbewGVOr1bCwsPhXU/PduHEDAGBhYQFnZ+fCCo0xZqA4WWSshKhdu7b079DQ0HyTxadPn6JZs2YgoqIOjZUwgiBg1apV+Pzzz9/5tQqFApGRkQCAFi1awNbWtrDDY4wZGL4NzVgJUbt2bdSqVQsAEB4enu/ygiBwiyLTiYjwxRdf4L///e87X0zcuXMHd+7cAQB88sknvI0x9gHgZJGxEsLS0hKffPIJACAiIgJv3rzJ9zV8Imd5WbBgASZPnvxOCWNwcLA0wKpu3bpFFRpjzIBwsshYCSIWP3716hXCwsL0HA0rDZYtW4YpU6YUeIT9lStXAAAymUyrawRjrPTiZJGxEiT7YAKe+o8VlqVLl2LOnDn5LqdWq/HgwQMAgLu7O6pUqVLUoTHGDAAni4yVINWrV4eJiQkASCdtxgrDzJkzsWrVqjyXSUlJQXR0NADA29sbpqamxREaY0zPOFlkrASxtbWVWhejoqK4ODcrVOPGjcP+/ftzff7Zs2eIjY0FwP0VGfuQcLLIWAliYmKCFi1aAACePHmCzMxMPUfESpvbt2/n+tzly5elwTDVqlUrrpAYY3rGySJjJYy7uzsAIDY2FgkJCXqOhpU2xsbGuT539epV6d9Vq1YtjnAYYwZAb0W5ExMTkZKSApVKBXNzc1haWsLc3Fxf4TBWYogtOgqFArGxsXBwcNBzROxDERUVBQAwNzeHo6OjnqNhzPCkpaUhJSUFaWlpMDIygqWlJcqWLQuZrGS3zRVrsnjz5k0EBQXhjz/+QGxsLJKSkqBWq1GmTBlYW1ujXr16GDZsGHx9fXmUHWO5qFGjhvTvhw8fonHjxnqMhn0oVCoVHj16BABo2rQp7Ozs9BwRY4YhPj4eoaGhCAgIwLlz55CYmIiMjAzIZDJYWVnBxsYGvXv3Rr9+/eDp6anvcN9LsSSLERERmDZtGg4cOAAAqFy5Mlq0aAEXFxeYm5sjNjYWd+7cwYULF3D8+HEYGxvj66+/xjfffANLS8viCJGxEsPe3h7GxsZQKpWIi4vTdzjsA5GZmYmXL18CAFxcXEp8Swlj/1ZKSgo2bdqEb7/9FomJiTAyMkKzZs3g6uoKe3t7pKWl4eHDh7h27Rrmz5+P+fPnw8/PD3PnzpW6E5UYVITUajX99NNPBIAA0NixY+n69euUkpKic/m4uDg6dOgQNW3alABQ/fr16ebNm0UZImMlTmpqKrm4uBAA+uqrr3Jd7sGDBySXy6X9r6Q8KlSoQNOnT6fWrVu/02umTp1KnTt3LrK42rdvT9988w2ZmJi882t79+5NkyZNIkEQ9P795vdYunSpzu3p1atXZG5uTgBo3rx5RbV5M1YiREREkLu7OwEgFxcXCgwMpJiYGJ3LZmZmUmRkJE2ePFnaz2bPnl3MEf87RZYsqlQqGjJkCAGgli1b0vXr1wv8WqVSSTt27CAAZG5uTsePHy+qMBkrkbp06UIAqF+/frkuU1KTxaZNmxIRUWJiIjVq1Cjf5Y2MjOjs2bNERLR9+/Yii2vjxo1ERFS5cuV3fu3p06dJpVKRsbGx3r/f/B65JYtXrlyRkt0NGzYU8hbNWMlx5MgRMjMzIwC0YsUKSk5OLvBrr127Rj4+PgSA/P39KT09vQgjLTxFdh9h3rx5CAgIgL+/Pw4fPoz69esX+LVGRkbo1asXTpw4ASJC+/btceHChaIKlbESp3r16gCAx48fQ6VS6TmawpWVlYXMzEyUK1cO27Ztg62tbZ7LBwQESOWE0tPTiywusUwRvcM8yqL09HSkpqa+12sNxdOnT6X4uXsQ+1CFhoaiY8eOAICTJ09i/Pjx77Q/NGjQAEeOHMGwYcOwceNGjB49ukQcF4qkz2JgYCBmzJgBf39/rF+/PkffFrVajfv37yM2NhZEBEdHR7i4uORYT5s2bXD69Gl4e3vDz88PV65c4dpejAGwtrYGALx8+RLp6emwsrLSc0SFSyaTIS4uDrVr18bu3bvh6+uLrKysHMvNnTsXAwYMwOPHj1GlShXuR1eEspdp4soV7EMUFRWFrl27QhAEhISE6BxcGBMTg+joaMTFxcHKygouLi45ykyZm5vj119/BRFh48aNqFmzJmbNmlVcH+O9FPqRNTY2FoMHD4a9vT2WL1+e4+B94sQJtGjRAnXq1EGbNm3Qtm1buLm5oWfPnlLn6eyaNGmCjRs3Ij4+Ht9++22JyMDZ++HftuDEK9n4+HgoFAo9R1P4jI2N8fvvv2P58uX4z3/+g40bN+ZYZtCgQZg2bRpu376NCRMmAAAEQSiymD707TMxMVH6N7csflhevXpVpK32+vb8+fMCLbd8+XK8evUKW7ZsyZEoJicn45tvvoGzszNatGiBHj16oF27dnBzc8Ps2bNz3AGSyWRYvnw5vLy88MMPP+DatWuF9nmKQqEni2vWrEFmZiYWLFiQo7UjOTkZ3bt3x4ULF+Ds7IyPP/4Yzs7OUKlU2L17N0aOHKlznYMGDUKPHj3wxx9/4Pz584Ud8gctIyMD58+fx9q1a7Fu3TrExMToJQ6VSoV+/fph27Ztenn/wvD69Wt8+eWXWLt2LZRK5Tu9VqlUYurUqfjuu+8KtLx4sk5OTi61s7io1WpMmjQJISEhGDRokNaVd7NmzbB27VqkpKSgV69euHv3LuRyea7rqly5Mry9vfHxxx/Dy8tLml87N1ZWVmjcuDHat2+PJk2aoHz58rkmojKZDPXr10f79u3RvHnzUptIpaSkSP+2sLDQSwypqalISkr6V+tITExEWlpaIUVUdGJiYjBmzBg0bNgQ9evXx+rVq/USR2xsLHx8fODv7y8d1zIyMnQe4zIzM5GRkfFO68/KykJ8fHyRX4zldmF98uRJuLi4YO7cuXm+PjY2Fr/88gu6du2Kfv365Xg+KCgI8+bNQ/ny5TFq1ChMnz4dLi4uSE5OxsyZM7F3794cr7GyspJ+1+nTp7/nJysmhdkB8v79+yQIAvn6+pJarc7xfGpqKv344490+PBhqVNnSkoKTZkyhQCQIAh09erVXNdtampKHTt2LMyQcwgNDaWePXvS3r173+v1WVlZNG/ePGrXrh3duHGjkKMrXI8ePaImTZpodW7XxwgthUJB/fr1IwA0Y8YMIiJKSEigMWPG0IABAygsLExabvr06dSzZ09au3Ztgdd//fp16tu3L02bNq1I4hdlH/l/+/btd3ptamqqNJjj888/J5VKlefyGzZsIAAkl8spOjpa5zIldYCLl5cXEREtWbKEAJCVlZU0gGXcuHFkZ2dHsbGxlJ6eLo2YbtKkCRERbd68WWtd1apVo507d+aowBAVFUWzZs3S+f4///wzvXz5Umv5hIQEev36NaWlpZGdnZ207JAhQygyMlJr2efPn9OcOXO01nn48GF68+YNGRkZ6f37ze+R2wCX7Nv35cuX89w+i8KqVauoVq1atHjx4vdex4QJE6hKlSp09OjRQoys8N29e5eqVKlCgGbAV/PmzWn69OnFHkdUVJRUeWHevHmkUChIpVJR//79yc3NjTZv3kxEmtG+n332Gbm4uNDMmTMLvP7w8HCqX78++fn5UVZWVpF8hszMTOrevTs5ODjk2FfFGBwdHQkAzZkzJ9f1fP755ySXy+n+/fs6n798+TKtWbOGEhISpL8lJiaSt7c3AaDu3bvnuu4JEyYQALp79+47fLLiVajJonigfteRclevXpUOQnklaeII0IcPH/7bUHO1atUqAv4Z+fg+xJ382rVrhRhZ4VuzZg0BIE9PT7p8+TJdvXqVHj16VOxxLF68mADQoEGDSKFQEJEm6e7YsSMBmtH0RESnTp2StpN3GSEfGBhIAKhTp05FEr/o0aNHNHToUJo5cyalpaW98+sfPHggHbTEg3BuPoRkUdwuAJCjoyNFRUVRZmamdBEmXmDkliza2dnRrVu3iIho27Zt1KtXL/L29qZhw4ZJx5D//e9/Wu+9ZMkSIiIKCQmhIUOGUIsWLah79+60YsUKSkpKorS0NLK1tSUA1KNHD1Kr1ZSQkED//e9/ycfHh/r37y8lUvPmzeNkMZusrCxKTEzMc5n09HRKTEzUebE0ZswYAkA//fTTO7+3SLw4Pnz4cL7LJiUl5frcmzdv8t3HMzMz81wmOTk511G0GzduJAA0ZswY6W/isTH7+t+8eZNnDESaBhldjTdEpBWfrlG5Xbt2JQA0ZcoUrb//+OOPBICcnZ2JiCg4OJgATYPPu2wbJ06c0Nrnc6NQKPL9rG/evNFZlk+pVFLZsmXzTMYuXbokHU915RdKpZKqVav2Xo1VX3zxBQGgjz76KNdlLly4QABoy5Yt77z+4lKoyaK/vz8ZGRnRixcv3ul158+flw5CFy9ezHW55cuXEwDavXu3zucTEhJo8eLFNHjwYJo6dSpduXJF6/n4+Hj65ZdfaPTo0fTZZ5/Rf//7X2njCQkJoQULFpCfn590FbBo0SKaM2dOgZI+lUpFGzZsoJ9++knaMMeOHUsLFiyg+fPn07Nnz6TPOnv2bPr7779pzZo1NHz4cJozZw69fv2aiDQ7dkBAAE2ZMoUGDRpE48aNox07dkhXXc+ePaO5c+fSgQMH6NSpUzR27FiaMGECnT59Wiues2fP0qxZs2jw4ME0dOhQmjt3bo6d7YcffiAANHfuXJ2f6cqVK/Ttt9/SsGHDaNq0aVotpbdu3aLZs2fTkSNHaOfOnTRy5Ej66aef6NWrV0REtGXLFgoICKCNGzfSmDFj6MyZM7R48WKaOHGiVu3MqKgoksvlZGJikqNG1e3bt6WadkFBQdS7d28pqSyIO3fu0MKFC6lPnz4EaGphLViwgObMmSNtQyqVitasWUO//fYbXbhwgb7++mv6/PPPKSgoSFpPTEwM/fLLLzR+/Hj67LPPaMqUKXTkyBGt95k7dy4tXryYVq1aRb/++qvWiSY+Pp7mzp1Le/bsodDQUJo4cSKNHTtWZ+uGWDLKxsaG4uLicv1s2ZPFx48f61ymNCWLAKh58+aUmZlJRJSjVVBXsvjrr78SkXaSIz4qVqwobc9t2rQhANSmTRsiIjp69KjOeojr1q0jIqIKFSoQALp16xalp6dTgwYNtJYzMTGhqKgoSklJIXt7eyk5KenJopggAO+eLG7atIkaNGhAFSpUIF9fX/rrr7+0nj9z5gz17NmTqlSpQhUqVCAnJycKDAwkIqKgoCDy9fWlihUrEgCyt7endu3aUfPmzaVl8qJUKmnUqFHk4+NDpqamBIDc3Nzoo48+Il9fX7p06RIREc2cOZO6du1Kv//+O7Vu3ZocHByof//+UitzXFwcjRo1itzc3MjGxoaqVatGY8eOlc53L168ID8/P5o0aRItX76cXFxcpJbQ7MnvypUrqVWrVlSxYkWytbWlXr16UUZGhlbM69atIwC0c+fOHJ8nMTGRZsyYQS4uLlS5cmXq0qWL1sXz1atXqV27djRt2jQaO3YsOTg4ULNmzaRj2qJFi6hnz540cOBAqlWrFi1cuJD69+9PLi4u0jZORHTu3DkCNBdq4nFd9PTpU2k/WLp0qVTfdPTo0fn+HkSaC//WrVuTm5ubtM+0bt2afHx8aMKECdL5LiUlhWbMmEG1atUiGxsb6tixI50/f15aT1JSEn3//ffUpEkTsrGxITs7O+rbt690YdKtWzdq0aKFtD97eXmRr68vjRgxIkfyPWPGDAJ01xC9efMmAZq7Du+qRYsWBIC+/fbbXJdJSkoia2trGjZs2Duvv7gUarLo7e1NLi4u79ycLN5usrOzy/NqTsz+V61aleO5Fy9eSFeN4gHZxMSETp48SUSaRLJZs2bSCbZ8+fIEgH777TciIpo6dWquB8/Vq1fn+xkyMjKkViFdjwsXLhAR0XfffUcApPcXH3379iUiTYIm/s3Kykr6t7gBi9+BeNATH+bm5lITe2BgoLRzWFtbS8uKz+/cuZN+++03at++PQGaxHjDhg20du1aioqKkpZ5uyacjY0NhYaGEhFRQECA9B1nX6Z79+6kUCikHUR8ZF9X9ha+X375hQBQz549dX6v48ePJ0BzOxEAWVpa5nob4G151dxr3749EWmuzsXbijKZTGsZcdtZsWKF9LxYWwsAbdq0iYiI/vrrrxzrz95CKx5o5HK5VhIil8ul7SI7sSi9rhOFSGx5+JCSRfFkdPLkyRzJ3NvJor29PWVmZlJERESu79OlSxciIlq9ejUB/1zVt2vXTufya9asISIiCwsL8vT0JCKix48f06RJk2jq1KnSY9y4cXTu3Dki0tw2B0pHsvjzzz9Ly/z999+5bptv27t3LwGgypUrSxd8AOjQoUNEpGkREu/GdO3alYYMGULu7u5SHDt37qQ6depIBcHLli1L7u7u5OzsTL///nu+769UKql3797k7Ows7Q8ODg7k5uZGderUkZKPVq1aSbGZmppKydDChQuJSNNFSSaTUYsWLWjAgAFUo0YNAjRdEYg0dxayf49iCzQAOnPmjNa2ZmpqSoMGDaLu3btTq1atpBaxJUuWUI8ePah+/frSvtCnTx/q3r07nTp1ioiIunfvToDmPCceu+RyubTNHTlyRCuO6tWrEwAyMzOj58+f08CBA6XXi/uReOyrXr26lEQNHTqUAND8+fN1fq/isVt8rY2NDT19+rRA28SRI0fI1dWVHBwcpPjr1q1LLi4uNHjwYKkldPjw4QRokvtu3boRoDkXiMnr119/LX3XQ4YMoS5dulCbNm1IoVBQQkIC+fj4UK1ataTPWaNGDapTpw716NEjR7IYGRlJAKhmzZo58pD9+/cTAPrzzz/z/WwKhYISExPp+vXrNGLECAI05+GIiIg8X9e1a1fy8PDItRVY3wotWUxOTqbKlStT8+bN3+nDxsXFSUnW2LFj81w2NjaWAN39CsRWsuHDh1NCQoLUCimeRMQDllwup2vXrpFKpaILFy5It/Cio6Pp3LlzUnLy9ddf08WLF+nEiRNSq2Be1Go1Xb16lY4cOSK1JqxZs4bOnz9PJ0+elDa+7H2Z5s+fT1u2bCFA03z/+vVrevHiBW3bto2ePHlCGRkZUlLg4OBAKpWKrl69Km34LVu2pP3795Ovry8B/7QQtm3blgBN3zeFQkHJycl04sQJSklJIYVCIe2guh579+6ltLQ0aZnx48dTcHAwDRo0iIB/kqzsidjIkSPpwIED0kEjIiJC6jIwffp0KZ6ff/6ZKlSoQC4uLtKVdocOHQgABQQE6PxeX7x4IR2UAdB3332X728hio+Pp9DQUOmKsXnz5nT27Fk6ceKE1LqZkZFBderUkQ5IBw8elA5KEyZMICKiv//+mwIDA+nly5eUkpIitVS1a9eOiDQXImfOnKGdO3eSIAgkk8m0ErjIyEjpu/Hw8KCgoCDp+5k4cWKOuKdPn04AaNKkSbl+NrELgVwuz3XWgNKYLIon2rf/9nay6O3tTUT/XNToeshkMoqLi6OIiAgSBIHOnj1LarU616LbYj9ZExMTqQUlPT2dlEolZWVlaT1SU1MpJSWFZs6cSYAmMSrpyaJ4UQ/8k/zkJzk5mVxdXUkmk9G9e/eISNOyBWhmtSH65wLZ1taW7ty5I7327ZO5eGx+39vQarVaKoZ84MCBHM+LxyJ3d3d68uSJdItU7IOfmJiota89e/aMTE1NqU6dOkSkOYeI+/ngwYMpMTFRahwQW7l79uxJAKhjx45SK7kYGxHRyJEjycbGRroINzExIVtbW7K2tqagoCApJisrK7py5Qq9efOGevXqpfV9issIgkCBgYGUlpYmJYzBwcE0evRoaXsWWwR3795N7dq1I3Nzc+nWuKenJwGgkJAQnd9ncnKyNIMJAPrhhx/e+Tc5fvw4AaBmzZrlyBvCw8MJADk5OUnJtJh8iQ1GYlL9dotc9gartLQ0aZ8Wu6XoolKppH7jbyd2K1euJABad5x0OX/+PNWqVUvrQqF69ep53jEVTZo0iSpWrPheXZiKQ6HVWVQqlUhJSYGZmdk7la/49ttv8fTpUzg4OGDGjBl5Lmtubg5BEHKMtkpNTcWmTZsAAESEtWvX4tWrVwCAsLAwJCQkwN7eHoBm5NXMmTPRu3dv9OjRQxq5WLVqVVStWhUREREAgPr166Np06YF/hyCIKBhw4YAgHLlyuHZs2fw9vZGgwYNdC7fp08fTJ06FWq1GseOHYNCoUBaWhocHR3RuXNnHD16FA8ePEBcXBwEQUBaWhrS09Mhk8lARLCxsUFgYCAqV66Me/fuISQkBG/evAEAVKxYEQCwfft2mJqaon379ujUqRMAzQjTrVu3Ijk5GevXr8fevXsxcOBADBgwAEqlEr6+vjhx4gRiY2Ph4OCAuXPnwsLCAo0bN8aePXuk4f3ib+zh4YF169YBAKZMmYJHjx7BxMREKhMwYsQI3L17F46Ojvjyyy+xfv16aURaamqq9H3n9l3b2trCyckJUVFRAPBO82lWqFABzZs3R2xsLIB/5iR/mxjrr7/+Cm9vbxgbG0OlUqF27doAAC8vL1StWhXBwcGIjo5AbRnTAAAgAElEQVTGgwcPAGhG/hERrK2t4ePjg9evX0Mmk0GtVud4D7VaDXNzcwQGBqJ27dp48eIFgoKCkJqammNZ8bsQ30cX8XVGRkYwMiqWKd4NRkFGf4vfSV4Fy4kISqUSpqamEARBGk1NuYzKzP53cfufNWsWtm3bprO+o1wul0pyFGVJn+KSfZR3QcuoREVFITIyEoIgYOjQoTAyMpIqLly/fh1EBCcnJ1SrVg3R0dFSGbVu3brh008/1bnO3H6f/OT3G4jrHTduHKpUqQILCwssX74cjo6OADTH9YiICMybNw+3b99GcnIyFAqF9NsLggAigqmpKRYtWoRy5cqhVq1aAP7ZZtu0aYNdu3bh0KFDqFmzJj799FMMGTJEOk8sW7YMixYtwtq1azF16lQsXboUgwYNQlZWFsqWLYtJkyYB0FQI8fT0BAD4+/tj586d0jFS/Jyurq7o06cPAGDlypV4+PAhXFxcpPNn48aNERQUBHNzc3z00UdYs2YNsrKyoFaroVKpEB8fDwCwsbHR+X1lZmZqjSrPXoezoMTvnIhy/D4HDx4EoCnb07lzZxARIiMjAQA3btwAAHTo0AE3btzAhg0bcPHiRXTt2hX9+/fXmgSkoPueXC5Ho0aNcOXKlRwj7sVKAKampnmuw8TEBJUqVULZsmUBAHFxcYiOjsasWbMwb968XPMBQDMyOiMjw2AnWSi0s4yFhQWqVKmChIQEqNXqAhXHXbVqFX799VcIgoD169ejcuXKeS7/8uVL6eScXWJiIh4/fgwA2LJli/RlW1pawtLSEikpKWjSpAkWLFiABQsWYN++fdi3bx8cHR2lofAiMZF539p1mZmZUrKQ10lN/KwymUyrhtydO3fQsWNHPHr0CABgZmYGIspRFqRSpUqoVKkSAORITn788Uekp6cjKCgIy5Ytw7Jly+Dr64vffvsNzs7OaNWqFQDg4sWL2Lt3Lzw8PKRkEgAePnwIAHBzc5NKZJQrVw52dnZ49OiR1o7t4OAgvW7BggXSv8UDkiAIUCqVKFOmDJRKpbRtCIIgzdQB5L4T7t27FydPnpT+P2/ePPTo0eOdEiQxFl1JXHYVKlQAALRr1w7t2rWT/r5//34MGDAAycnJkMlk0nu/vY3nV47D2tpaKiovbl+6DmRiHGLyr4t4sra2ts63DMyH6NmzZwAgJfy61K1bF7a2tti3bx/UajWeP38OQRDg6uqKFy9e5FhePLEZGxsjLCwMgGY/FI89pZ14AgQKniyK+4RMJkPFihWhVCrh7u6ORo0aoXbt2lCr1ShXrhz++usvLFy4EPv27UNgYCACAwNx5swZrFq1StrPxP03rxJJeSHNnTQpntyIx6Ly5ctL9TsB4K+//kLfvn0BAC1btkSNGjXw999/50hezczMpBjfPvGPGzcO5ubm2Lx5M06dOoUlS5Zg5cqVOHToENq2bSsVOxePu1ZWVlol6MRjmdggAEDa/9++8DQ2NoZSqYSxsTH8/PxyrEOlUkGtVkMQBKhUKhCRVuIrHudyO26KCaj4PitXrsRnn30GLy8vncvrIq5b1++RPVmtUKECFAoFWrRoAUEQ4O3tDQD46aefUKFCBezcuROXL1/GzZs3sWLFCly5ckWa6EOtVku/UX6J49vbmki8YEhOTs7z9V5eXggNDQWgyVfOnDmDCRMm4NChQ4iMjMT58+dzzXNiYmJgY2MDMzOzPN9DXwqtzqKJiQmcnJwQGxtboERr165dGDduHARBwOrVq6Xpc/Jy69YtAJqdODsLCwvp6mfDhg14+fIlXrx4gcePH+PatWtSq+LXX3+NBw8eYNOmTWjevDmePn2KWbNmac0MUZCr1sOHD2PmzJm5TkGY1w4g0jUbBQCsXbsWjx49wuTJk/Hs2TMcP34ccrk8x/Li1Z+umOvUqYN9+/YhPDwc8+fPh62tLUJCQhAYGKi1nFgn6+3fS9wxbty4IV0tPn78GLGxsbCxsZGuoIG8W26yx/Z2jGq1GlZWVnB2dgYA3L17N8drxSKnRISRI0fC0dERV65cwdKlS/N8z9zk9p3n9TwRYcmSJUhOTsb8+fMRFxeH9evXS58hu+yzWuia4UJsycrPnTt3AGgn4m8Tr3QrVqyY79Xuh+j+/fs4dOgQWrZsicGDB+d43tjYGAsXLoSRkRG2bt0KANi6dSuICJMnT9aZkIj7c5kyZXD58mXcunULEyZM0LqwyK5Hjx7w8fEpxE+lX+LFKaBdczEvdnZ2kMlkMDExwfLly3HgwAHs2bMHgYGB+PnnnyGXy5GZmYnGjRvjr7/+wtOnTzF58mQAmt9DV82+3AooKxQKzJ07F40bN8aCBQt07s/ib5hXrcbckqPffvsNADBjxgyEhIRg9uzZMDc3z7G8Wq3OdR1JSUkYNmwYTp48iRs3bsDb2xsKhQKbN2/WGcPbn6FmzZoANOfPly9fQqVS4dixYwAgHUtzO+aK8mvIERsn7OzsAGimeXzbzZs3MXv2bADApk2b0LNnT6hUKnz11Vf5Hmd1xZKYmJjjOxNb4SpXrowtW7Zg//792LVrF3bu3InBgwdDrVZDoVDgm2++wd9//43Tp0+jSpUqSE1NxcWLF7XWJSaJ2S9y3v5+lEolLl26BCBna2qNGjUAQOfEIbmpVKkSevbsicDAQMjlcjx69AjBwcE6l1Wr1QgPD4eLi4vB3ikq1KLcbdq0QVxcnJRZ5+bQoUPo3bs3AM0BYfTo0QVa/4EDBwBoWryys7a2xtixYwFoEsKTJ0/i8ePH2Lt3L86dOwcjIyPs378fEyZMQGRkJJo2bSo14b99UihXrhwATXHxkJAQ7N+/X2ryBjRXZf7+/pg9ezaGDh2a4+RvZGQkXYGvXbsWoaGh2LZtm3QrNL8dOftB+O7du/D390dWVlaOOLPvWG9fNX377bdYt24dTExM0LlzZ61WzOxyi6Vt27aws7PD8+fP0adPH/zyyy/w8/NDWloaBg0aBOCfg1hBbtllv6IX/y1e0fr6+gLQHPzeNnv2bNy+fVuaDej7778HoCleKt6+Lgjx9zhx4gR27dqFkydP4vDhwwCglfjmRjxhERHOnTuHL7/8UnqtIAi4fv06duzYgcDAQGRlZYGIsGPHDuzZswdJSUk6b2/mtR2IB//WrVvnGpN4wqxWrRpPvZaLzz//HM+ePUNAQABWr16N+vXro0aNGmjZsiVCQ0PRqVMnBAQEYOfOnQA0LUdr1qxB165dERoaig4dOsDJyQmurq6YOHEi+vbti8zMTOlg/vnnn0OtVuPIkSOYM2cO6tWrBycnJ3z88cc4duwYdu3aJd2GLA2qVasmHUMKmixWr14dM2bMQHp6OurVq4e+ffuib9++cHV1lRKkixcvonbt2hg4cCCWLVsmTbzg5uYGY2NjaV1iN5+VK1eiZ8+e6NSpE/744w/p+ejoaEyfPh2XL1/G9OnTc9wWFQQBTk5OADS/3YABA9CuXTvpfCUey3NLdsTkadOmTejWrRvq1KmDlJQU6VgsHtsyMjKk/frt4+TEiRPh5uaGMWPGYPPmzdKFYZMmTbTeS3zd27EMGzYMtra2iIiIgKenJxo1aoSFCxdCLpdj5syZAP65gM+t0Ub8u5hsid1plEolFAqFFKvYevd2IwMAzJ8/HyqVCh06dMCnn34qTSZw6tQpLF68WOf76uLo6AhBEBAZGYm2bduib9++GDNmDIgI/fr1g6enJ0JDQ+Hs7IyBAweiV69e8PLyQmxsLFQqFT755BM0b94cX375Jf766y/pjkL16tWl9zAxMZGm2xswYAD69OmDIUOG5Ph+bty4gatXr6JNmzY57kjUr18f5ubmUjL5Lv7zn/9I89vntt/cv38f4eHh+OSTT955/cWmkPo+EtE/JXDyGj5/4sQJMjY2JhMTkxzlE/KiUCjIycmJqlSporMDaEJCgjRoIPtj/PjxRES0fv36HM85ODhQcHCw1nqePHlC9erV01ouezmBjIwMqeNvu3btdNYDW7t2bY6O7GJ5htmzZxOgGXyS2/eTfVRu9erVydLSkqysrCg5OZmuXbtGAKhWrVpSuYWFCxcSAKnodPPmzXN81mbNmuWoxyeOANfVYXzv3r1kY2OjtQ4/Pz9poI44MEcc5PE2cWThw4cPqUuXLlSjRg1KSEigKlWqUPXq1aXYT58+TYBmJHz2mmP37t2TOnmL3398fLw0KtrPzy/fwtWihIQErZGOAKhz585EpBkNLQ6gyW202rJly7ReKxap9fHxISJNp/S3v2/xcf78eYqOjs7xGcV6niNHjtR6r8ePH5OVlRUJgiANCHibWq2WRrKLIzF1KakDXMTBKuIo9II8mjVrRkT/1NQUH25ublplXsRtRqlU0sqVK3OMgBcEgVasWKH1XYvEgSzZB8B07NhRqiCQfXmlUkkbNmyQBuOcPHmSMjMzc1QYMMRHbgNcXr9+TZaWlgS8WwmRtLQ0mjFjhlTdQRAEqlChAu3YsYOIiMLCwsjGxkYauGdmZkYdO3akBw8eaK0nMzOThg8fLo1SlsvlWpUq0tPTqW/fvmRmZkYDBw4kpVKZI5YHDx5Qq1atpN/FzMxMGmU8ZMgQsre3p+3bt+v8HHfu3KFmzZqRXC4nIyMj+uyzz6TRt0SaAZg1a9YkDw8Pio+PJyJNpQR7e3upbur48eO1BmjZ29vTjz/+mCPW33//nezt7aXvKLvw8HBq2bKlVF3B3d1d6zx29uxZcnR0pM6dO+v8DiZOnEiOjo4UHh5O/v7+1KBBA0pISJBGoYu1MG/dukUymYwEQaDw8HDp9VFRUVS3bl2qXr261uCXr776iuzt7cnHxyfX+pFvU6vVtGbNGnJ0dCRBEEgQBK0C3Y8fP6auXbtK5wKZTEa1atWily9fkkqlog4dOkj7lCAIVK1aNfr5559zVGQ5ceIEubm5Sd+Zr69vjgFU/v7+BCDXvKR9+/ZUrVo1nd8pkabqxfPnz3P8fc+ePdK2LVYAeJtYCk0c0W6IBKLCm2MnLS0NTZs2xePHj3H//n3pSkz05MkTeHh44PXr1/D19cXkyZO1bgdkZWXBwcEB7du3z9G3YN26dRg9ejQWLlyIr776Suf7ExHCwsIQGRkJmUyG6tWro06dOrC1tUViYiIiIyPx8OFDZGZmokaNGnB3d9e6tSJKTEzExYsXpUEejRs31mqWvnfvHsLDw+Hr65tr/4M7d+7g5s2bSElJgZOTExo1agRzc3M8e/YM9+/fR7Vq1bSufrKLiIjA9evXUbFiRTRt2hRxcXFISUmBh4cHMjIyEBERAXNzc7i5uUEQBDx//hz37t1DzZo1UaVKFTx48AB3797F06dPYW5ujlq1aqFBgwY5+kLExMQgKioKTk5OOm95Pnv2DGFhYYiPj0fNmjXRvHlzlClTBoBmarvIyEhUrFhR6hvy9udPSkpCgwYN8OTJE6Snp6Nu3bq4desWBEGAu7s7BEGAQqFAv379sGfPHixZskTqwP38+XM8ePAAJiYmqF+/vvS+T548wZMnT2BmZia1DhdEamoqLl++jKioKFhaWqJhw4aoVasWiAgRERHIyMiAu7u7zv4iKpUKf//9N+7du4dq1arBw8MDDx8+RJkyZVC3bl3pFn322wf0//0669atC2NjY1y/fh0mJiZwd3eHXC5HXFwc7t69i6pVq2ptB7169cKuXbswdepUzJ8/X+dnSU9Ph6enJ+7cuYMpU6Zg0aJFOpcTO7S/y20hQ2BpaYk+ffrg6tWrCA8PL9BrrKys0Lt3b0RGRua4syGTydC6dWt07twZtra2ePDgAbZu3aqz64PIw8MD3bp1g7OzM2JjY7F9+3aYmZnByckJW7du1fpOLS0t0alTJ7Rt2xampqa4ePEijhw5IvU7BjR3XWxtbREYGGjwc0wvXboUEydOzPH3lJQU1K1bFzExMRg1ahTWrl37Tut9/vw5kpOTYWxsDGtra5QrV05q2U9MTJT6u1tYWEhdh3JbT0pKCkxNTWFra6vVDUOpVOLJkydwdHTMtXuGSqXCs2fPkJmZCSsrK1SsWBFyuVyaOtPKyirX12ZkZCA2NhampqZwdHRERkYGMjIyYG1tDbVajTdv3kAQBOmzZWZmIiUlBZaWljA1NUVmZiZev36N1NRUCIIAGxubHH3wxfdJSUnJNRaFQoGnT5+CiGBvb6913FIqlUhOToZcLpfulGWXkpIChUKBsmXLIj09HVlZWShXrhxSUlKkf4vn30mTJkl93g8ePAgLCwspNiMjI63Ys7KykJiYCJlMlqOrWH4SEhKkAYI2NjZa/WMBzbkqPT0dJiYmsLGxkQZbpaWlISEhAenp6ZDL5TpfK0pPT8eLFy+gVqtRoUIFrdh37tyJ3r17w9HREbdv384xVTGguQs6cOBArF27FqNGjcrxvLe3N+7du4dp06ahdevWMDIyQnBwML799lsoFAo0atQIp06d0jkNsoeHBxISEhAdHW2404UWdvYZFBREQM6h7Nmfy+tRoUKFHAVKxRYpCwsLnZk7K9nu378vtTq8SwX7S5cuUUhICJ09ezbH4+TJkzlaJgxZZmam1NJbp04dqUi7Li9evJCutJctW5brciW1ZZEf+n3k1rKoVCrJy8uLAFCHDh3+9TbPDF9ycrJU97Vnz55a5X5yExsbS/7+/jR48GAaMmSI1mPw4ME0cOBAqTXXEBw/flxq1cyrNI5arSZPT09ycHDQORNR9qL1bz+8vLy0ykJlJ5b5+/HHHwvtMxWFQu9J+cknn6Bjx47YsGEDhg4dipYtW0rPtWjRAqtXr0ZGRobOTrZZWVmoWrWqVj8VIsKIESMQExODDRs25GitZCVfrVq1sG/fPrRp0wZHjhzBgAED8n1NfHw8fHx88hxMNXz4cGkwiqFLTU1FQEAAKlSogN27d+d5Zf769Wupf5WulnHGioKRkZE0CvfevXtITk7W2QLDSg9LS0vs27cPnTt3lgZ55Ofly5daVUneRkRo27atVJVD34yMjGBvb485c+ZojRp/myAImDx5MgYNGoTPP/9cGhgnmjlzJnr06IFjx47h8uXLSE5OhqurKz766CP4+Pjo7FseEhKCiRMnok6dOtLALkNV6MmikZERfvvtN3h7e8PPzw+nT5+Gh4cHAM0o5jFjxhR4XVlZWfj666+xc+dOjBkzRueoRlY6tG7dGmfOnMkxeCk3ZcuWxaFDh/IsVyN2Zi8Jypcvj5MnT8LY2Fga1ZgbsYQU8E+ZHcaKg9hRPzo6GomJiZwsfgDs7OwQHBwMKyurApUtcnV1xb1793TWTqT/HwSUvfSPvvn6+uLmzZs6uwO87dNPP0VoaCh++eUXODg4YOHChVqf0d3dvcC1gMPDw+Hn5wdjY2Ns375dKpdkqIpkjLa9vT327NmDRo0aoVmzZtizZ0+BSuNkp1Ao4O/vj61bt6JLly5YtmzZe9fXYiXDu5QZMTY2Rtu2bYswmuJXt27dAi0n1h8DkG9tUsYKk3hnR6VS4dWrV9IoU1a6FSSREpmYmEj1ZEuKgn4+IyMjLF68GFFRUVi8eDFevHiBlStX6uwbmpeDBw+iR48eUCqVCAoKkkb6G7JCLZ2TnYeHB06dOiV1/v7iiy+kyv35OXPmDHx8fKSyOoGBgVxLjrH/J5bNkcvl3LLIilX2C5onT57oMRLG9KNMmTLYsWMHRo0ahT/++AMNGzbEvn37CjTzSmxsLL744gt07twZlpaWOH36NDp37lwMUf97RVr90dfXF9euXcOqVaswb948rFu3Dj4+PmjTpg08PT1RuXJlmJqaIj4+HrGxsQgNDcXJkydx+/ZtODk5Yffu3ejevXtRhshYiSMWp7e3t+dkkRWrpk2bSiOYC3rxz1hpY2ZmhrVr16JTp06YM2cOunXrhpo1a8LX1xdt27ZF1apVUb58eWRmZuLly5eIjIzEyZMncezYMSiVSkybNg3jxo2TJsAoCYq8VHiVKlUwd+5cDBw4EAEBATh48CBmzZqlc1lBENC6dWuMHDkSw4cPz3UIPGMfqqysLKk0jKOjo8FODcVKpypVqsDW1hYvXryQCkoz9qHq1q2bVBx+z549+PPPPxEQEKBzWUdHR4wZMwajR48ucN98Q1Js88q4u7tj4cKFWLBgAf7++288evQIcXFxyMzMRIUKFWBjYwN3d/cSNSiBseIWHx8vnaSrVavG/XhZsSpbtiyqVauGFy9e4OLFi9Lcw4x9qIyNjeHv7w9/f388e/YMly9fRlxcHBISEmBqaopKlSrBwcEBTZo0keoFl0TFPgmhIAho0qRJjumNGGP5i46OliazL01TybGSQSaTwcnJCWFhYbhy5QpevnyZ5xzmjH1I7O3t8yy/U5IV2QAXxljhyz6ooFGjRnqMhH2oxLs/4mwpjLHSj5NFxkqQhw8fAtCUcPDy8tJzNOxD1Lx5c+nf2ac0ZIyVXpwsMlaCnD17FoCmdSe/GndEBLVaXRxhsVIkv22mSZMm0vy1N27cKI6QGGN6Vux9Fhlj7+fly5c4ffo0AKBevXr5DiyQy+WoVKkS0tLScsykwJguarU63xH2dnZ2cHNzw8WLF3Hw4EF89913XAeXsVKOk0XGSojbt28jISEBAAp0C9rR0RFhYWE6p91iTBe1Wp1v7U6ZTIb69evj4sWLuHbtGh49egRXV9diipAxpg+cLDJWQmSva9eqVat8lzc2Ni5x026xkqFp06ZYv349iAj379/nZJGxUo77LDJWQojFuCtXrswjoZle+fr6SjU+uTg3Y6UfJ4uMlQBJSUk4ceIEAE1/RQsLCz1HxD5kTk5OqF27NgBI2yVjrPTiZJGxEiAqKgqPHz8GANSpU0fP0bAPnbGxMerWrQsACAkJwfPnz/UcEWOsKHGyyFgJEBkZKf3bx8dHj5EwpiEOskpJSUFERISeo2GMFSVOFhkrAc6cOQMAsLCwQNu2bfUcDWNAly5dIJNpTiHXr1/XczSMsaLEySJjBi4pKQm7d+8GAHh6esLOzk7PETEGuLm5SaOgOVlkrHTjZJExA3f16lU8ffoUgOYWNNdMZIZALpejadOmADQj9TMyMvQcEWOsqHCyyJiBu3LlivTv7t276zESxrR98sknAIC7d+8iPDxcz9EwxooKJ4uMGTAiQlBQEADA2dkZDRs21HNEjP2jXbt2KFu2LADgwIEDeo6GMVZUOFlkzIBFRUVJ80F7enqiTJkyeo6IsX/Y2NhIBeIvXryo52gYY0WFk0XGDNj169eRlZUFoGBT/DFW3Jo3bw4AuHDhAtdbZKyU4mSRMQMWFhYGADA1NYWfn5+eo2Esp759+0IQBKSkpEij9hljpQsni4wZMHE+aG9vb1SvXl3P0TCWU4MGDaS+tEePHtVzNIyxosDJImMGKiYmRkoW+RY0M1RyuVzrVnRKSoqeI2KMFTZOFhkzUDt27EB6ejqMjY3Rt29ffYfDWK68vb0BAM+fP+dR0YyVQpwsMmag9u3bBwBo0aIF6tWrp+doGMtdixYtIJfLAQB//fWXnqNhjBU2ThYZM0AxMTG4cOECAKBly5Z6joaxvDk5OUkFukNDQ5GcnKzniBhjhYmTRcYMkHgLWiaT4dNPP9V3OIzlSRAE9OrVCwAQGxuLvXv36jkixlhh4mSRMQMk9vvy8vJC3bp19RwNY/nz8fGBTKY5pXCyyFjpwskiYwYmKioKZ86cAaAZBS0Igp4jYix/zs7O0tzlJ0+exOvXr/UcEWOssHCyyJiB2bx5MzIzMwFwf0VWcgiCII3aj4+PR2BgoJ4jYowVFk4WGTMwR44cAQBYW1tL9esYKwm8vb1hZGQEANizZ4+eo2GMFRZOFhkzIKGhoTh//jwAYNy4cbC1tdVzRIwVXLVq1TBixAgAmlvRd+/e1XNEjLHCwMkiYwbkjz/+ABEBADp27KjnaBh7dz169AAAKBQKBAQE6Dkaxlhh4GSRMQOhUqlw4sQJAED9+vXh4eGh54gYe3dNmzZFtWrVAAD79++HWq3Wc0SMsX+Lk0XGDMThw4cRGRkJABg+fDjMzc31HBFj787a2hrDhw8HAFy/fl0a2c8YK7k4WWTMQIi37ARBQPv27fUcDWPvT5zNBQA2btyox0gYY4WBk0XGDMDz588RHBwMAOjatSsX4mYlmqenp1T26ejRo3jz5o2eI2KM/RucLDJmAP744w8kJiYCAAYNGsSFuFmJZmxsLI2KfvbsGbZu3arniBhj/wYni4wZgB07dgAAypYty4W4WanQtm1bmJqaAgC2b9+u52gYY/8GJ4uM6dmpU6dw6dIlAFxbkZUeVapUwahRowAA58+fR1RUlJ4jYoy9L04WGdOz5cuXg4ggCAL69++v73AYKzRDhw4FACiVSuzbt0/P0TDG3hcni4zp0atXr6SBLd26dUO9evX0HBFjhadhw4bSyP7//e9/SEpK0nNEjLH3wckiY3p07tw5pKSkAAD8/f0hk/EuyUoPuVyOkSNHAgDu37/PNRcZK6H4zMSYnqjVavz6668ANP27fH199RwRY4WvTZs2sLGxAQD8/vvv0nSWjLGSg5NFxvTk6tWrOHDgAABg0qRJsLa21nNEjBW+ihUrYuLEiQCAnTt3IiIiQs8RMcbeFSeLjOnJzp07AWhu1fn5+ek5GsaKTvfu3SEIAohIKhPFGCs5BOJ7AowVu5iYGLi6uiI1NRUjRoyQbkczVhqpVCo0bdoU4eHhKFu2LO7evQs7Ozt9h8UYKyBuWWRMDw4cOIDU1FQAwODBg/UcDWNFy8jICAMHDgQAJCUl4eDBg3qOiDH2LrhlkbFiFh8fj8aNGyMqKgqurq4IDw9HmTJl9B0WY0UqKSkJjRo1woMHD+Ds7IxLly6hfPny0vMKhQJPnz5FzZo19RglY0wXbllkrJgdPHhQms1i0KBBnCiyD0LZsmWlVvT79+/j2BQL7jgAACAASURBVLFj0nP79u2Dj48PFi1apK/wGGN54GSRsSLy8uXLHGVC0tPTsWzZMgCAjY0NRo8erY/QGNOLUaNGSWV0Fi9ejF27dqF79+7o1q0bwsLCYGJioucIGWO6cLLIWBFZuXIlunXrhosXL0p/CwkJwZUrVwAAvXv3lk6cjH0IKleuDH9/fwDApUuX0KtXL+zdu1d6npNFxgwTJ4uMFREiQlBQELy9vTFy5EicOnUKK1asAKA5KYq15xj7ECgUCmzduhUhISG5LmNsbFyMETHGCspI3wEwVloZGWl2LyLC+vXrsX79eum5QYMGwdXVVV+hMVZskpKScPToUSxevBgXLlzIc1lOFhkzTNyyyFgREQQh1+fu3r2L4ODgYoyGMf04duwY+vTpk2+iCPxzgcUYMyycLDJWRGSy3HevM2fOoH379ujRoweOHTuG+Pj4YoyMseLTtWtXrF+/Hubm5vkuyy2LjBkmThYZKyJ5JYuiPXv24OOPP8auXbuKISLGip+xsTGGDx+OsLAweHl55bksD3BhzDBxsshYESlIsiiTybBlyxYMHTq0GCJiTH/q1auH4ODgPGcs4pZFxgwTJ4uMFZH8ksUqVarg2LFjGDBgAJ8k2QfB2toaAQEBWLFiBeRyeY7nuc8iY4aJk0XGioiuk6Goc+fOuHTpEtq2bVuMETFmGMaPH4+QkBA4OTlp/Z1vQzNmmDhZZKyI5NayOGPGDOzatQv29vbFHBFjhuM///kPLly4gK5du0p/45ZFxgwTJ4uMFZG3WxbLly+PoKAg/PTTT9yCwhiASpUqYceOHVKB+rzKTTHG9Icv4xgrItmTRV9fX2zYsAG1atXSY0SMGR5jY2MsWbIEVatWhZWVlb7DYYzpwMkiY0VEpVIBACZNmoSffvoJFhYWeo6IMcMkCAImT54MpVKp71AYYzoIRET6DoKx0mjfvn1ISUnBgAED9B0KY4wx9t44WWSMMcYYY7ni29DMoFy6dAmzZs1CYmJiiR8ZKQgC+Fqs+CmVSnh5eWHRokUoU6ZMkbxHYmIiJk6ciDt37nCNTPZeVCoV7O3t8eOPP8LNzU3f4TCWp5J9NmalzubNm3Ho0CF9h8FKuAsXLiAmJgZ//vknzMzMCn39ERERCAgIKPT1sg/P5cuXERQUhPr16+s7FMZyxckiMyhibUInJyepnAa3zrGCMjIywp07d7BixQrs3bsX/fv3x7Zt2wq9hVGtVkv/njlzJmxtbbX+xlheBEFAVlYWFi9ejMePH6NTp044cOAAGjRooO/QGNOJk0VmUMRksWbNmhg/fryeo2Ellb29Pb755huthNHU1LTQ1i/WAxQEAWPGjIGDg0OhrZt9ODw9PdG+fXvExMSgS5cuOHjwIN+SZgaJi3Izg5SVlcUtiuy9TZs2DXPnzgUA7NmzBwMGDEBGRkaRvFdaWlqRrJeVfq1atUJQUBBMTEwQHR0NPz8/3Lx5U99hMZYDJ4uMsVJp2rRpWLhwIQRBwK5duzBgwAC8evVK32ExpqVDhw7Yv38/bG1tERUVBT8/P4SFhek7LMa0cLLIGCu1vvrqK2zfvh2CIGD37t3o0KEDXrx4oe+wGNPSvn17nDhxAg4ODoiKioKPjw+OHz+u77AYk3CyyBgr1fr06YPt27dDJpPhypUr6Ny5M1JTU/UdFmNa3NzccOTIEVSuXBkKhQJdunTB7du39R0WYwA4WWSMfQDEhFEQBFy+fBmDBw8usj6MjL0vd3d3KWFMT0/Hxx9/jMjISH2HxRgni4yxD0Pv3r2lFsZdu3Zh4MCBSE9P13dYjGlp0KABjh07BgcHB8TExKBDhw7cwsj0jpNFxtgHo0+fPti6dSsASINe+JY0MzTu7u44evQozM3NER0djfbt2/MoaaZXXGeRlWrPnj1DUlKSVL8xP2q1Gvb29ihbtmwRR/b+nj59ipiYGJiZmcHZ2Rnm5ub6DqlIxcbGIikpCXZ2dihfvvy/Xl+/fv3w4MEDzJgxA3v27MHEiROxdu3aAm8jjBUHNzc37N27F35+fnj69Ck6d+6Mixcvws7OTt+hsQ8QJ4usVPvyyy+xc+dOqYgyoCmkLCYGWVlZWssTEX7//XcMGjSoWOMsqPXr12Pq1KlISEgAAJw6dQqtWrXSc1RFR61WY+jQoThx4gRmzpyJ77//vlDWO336dDx//hz/+9//sH//fmRmZhbJtIDvYu/evbh16xbkcnmBller1fjkk0/g4eFRxJG9v9OnT+PPP/9Eeno6/P390bp1a32HVKT27t2Lu3fvolmzZvD19f3X62vXrh3+/PNP9OzZE48fP0ZMTAwni0wvOFlkpRoR5SjunT1BFARBSiTF5Qy1GPjx48cxcuRIAJq49Z3cFJc3b94gKyur0Aek1K1bFwAKdWaXf2PlypUIDg5+p9eUKVPGYJPF1atX44svvpD+b21tXeqTxSVLliAkJARjxowplGQRgNYUgNkvehkrTpwsslJt+fLl+OGHH6TWGkEQsG3bNnz//fewtLTE4cOHUalSJSlBVKvVBjl1GxFh5cqVAIAWLVpgzZo1KFeuHGxsbPQcWdETf7vCvk2sUCgKdX3/1uDBg+Hq6goTExMAms8dHh6O4OBgyGQyDBs2DOXKlZMugLKystCsWTM9R61bWFgYxo4di/9r79zjasr+//86XRSlKXIro5pSSjVTKImEwVDjMsJ8NHJXjIyQy0yMD9+ZMRiXcRm5NmMYxAwf8kEkJUQhdDndSyOVLkqlU533749+e33adSImhPV8PM6jzt7r8t5rr332a6+93u8FAAMHDoSTkxP69Onzmq16+QgPcE25FnlFRUWTlcXhvChcLHLeavT09OqJv/fffx8A0KJFC1haWuK99957HaY9F0VFRQgLCwMAuLu7w9LS8jVb9GpQUlJqtiO9Tc3EiRPrTX8IDAzEuXPn0LJlS6xZs6ZJ5my+CiIiIkBEMDU1RVBQUJOKJw6H8+rhM7o57xyVlZUAakbrGvPUnpeXp3D7w4cP8eDBg0bXm5uby+YaNkRJSQkePHhQTyDJZDI8evQIAGBkZNToOhtDVVXVM48jNzcXRUVF9bY/evQImZmZjRJ09+/fR35+fqNsys7Oxt9//43q6up35nW7IoTQPkT0RnltZ2VlAQB69uz5TgnFxs435XDeNLhY5HBqsXr1avTu3RsHDx5EUVERpkyZAisrKwwaNAinT58GAAQFBWHEiBGwsrKCpaUlBg0ahN9++00kmKKiojBw4EAsWLAA4eHhGDFiBExMTGBlZQUvLy9kZGSI6k1NTcWsWbNgbW0NMzMz2NvbY+nSpXjw4AFOnTqFkSNHsrmWvr6+cHNzYzdkAEhPT8d3332HMWPGYMiQIfj000+xYsUKZGZmiuqRy+VYsGAB+vTpg8DAQERFRcHZ2RmWlpYYPXo0bt68iaSkJAwePBjz58/HjRs3MHbsWHTt2hVWVlaYM2cOioqKUFVVhUWLFsHc3BwWFhZwcnLCmTNn6rXnkydP8OOPP8LBwQFmZmawsLCAm5sbQkJCFLb/b7/9hiFDhqBbt27o2rUr+vXrh9u3b7/YyXzLSUhIwJkzZ5CSkgIAiIuLw/bt2xEaGipKd+vWLezduxc7duyotw+oEfwXL17EzZs3AQB37tzBrl27sHfvXlZ2Xf7++28cOHAAO3bswMmTJ1FcXAwAePz4MSIjI1lcwNzcXISFhdXrh1VVVYiJicHFixcRGRmJx48fK6znzp07OH/+PAoKCgDUOMxs376drZ1cXl6Oixcv4saNGwCApKQk7Nq1CwEBAUhPT2flFBQU4MCBA9iyZQuCg4MbbNPKykoEBwfD398fu3fvZuU2RHh4OH755Rf88ssvCA4ObvA4OJw3HuJwmhHz5s0jAOTs7Exyufyl1OHv708ASEdHh3JyckT7Ro8eTQBozpw5NHjwYALAPg4ODhQeHi7aVvtz8OBBVs6JEyfq7W/fvj3739bWlkpKSoiIqKKigvr27cv2qampsf+3bdtGW7duVVhfXFwcEREdP36c2rZtqzCNrq4uHT9+nNlVXV1N1tbWBIDc3NxIV1dXlH7y5MkUGRlJAEgikZCSkhJJJBJRukGDBtGYMWPq2aqsrEw3btxgdZWVlbF0wn7hf1VVVbpz546o7YVzL3x0dHRE37/++usm7QcbN24kAGRgYEBlZWXPlTcsLIy1UVJSUpPaVZtff/2VAFCrVq3o3r17on0TJ04kALRo0SK6cOECtWjRgrWVj48PFRQU0Ny5c0kikYjaceTIkXT//n1WTmhoKAEgPT09WrRokSithoYGBQQEiOo9cuRIvf5mampKkZGRFBMTo7AfLliwgOXfuXMn9erVS7Tf3NycNm/eXO+ad3Z2JgB0/PhxWr9+PUuvpKREq1evZvXp6+vTqlWrRMeqra1NQUFBdPfuXTIwMBDV5+npSeXl5aK6bt68Sf369ROlk0gk9N1331FVVZUobWpqKo0fP77B34J58+b9o/Nem9jYWFZudHR0k5XL4TwPXCxymhWvWyz+61//IgCkoqJC5ubmdPjwYQoICCBzc3M6efIkHTlyhACQt7c3Xbhwgc6fP0+WlpYEgGxsbEgmkxER0alTp9gP/OjRoykhIYEKCgpo06ZNbPvevXuJiCg+Pp5t2759O92/f5/Onj1L7u7utHPnTsrJyaEdO3awG+E333xD58+fp/Lycrp27RoTCWZmZrRu3To6cuQIbdq0iYyNjZmgi4qKIqIasdi7d29W37hx4+js2bO0adMm6tKlC0VHR9OtW7dE+5OTkyk/P59+/PFHkfA7ePAgZWVl0fHjx0lLS4sJF4EtW7awG/umTZsoOTmZYmJiaOzYsQSAhg8fTpWVlUREFBAQwMp2d3enW7duUW5uLoWEhFDnzp25WFQgFj08PNi1oq2tTR988AGZmJgQAHJxcaH//ve/rE2dnJxo0KBBIrEkXF8XL14UCR03NzdasGABmZubs3MtCPtHjx6Rnp4eASBra2uaMWMGE1jr16+nrKwscnJyotatWxMA0tTUJBsbG9qxYwcRES1YsEDUhywsLKhVq1Zs29SpU0XX/cCBAwkAffzxxwSA7O3tqUOHDuwajI+PFwnEcePG0fz581k7tGrVirS1tcnQ0JA8PT3J3t6epa0tglNSUqhTp05MZHp4eIgedPz9/Vna/Px8srKyYud//PjxNGfOHBo0aBCzhYtFztsGF4ucZkVzEYsSiYRiYmLY9uLiYiIiunDhAu3fv1+UZ//+/ay8wsJCIvqfWOzcubNIiFRVVZGZmRm72RERZWRksFG3L7/8kglOIqLHjx8TEVFeXh4pKSkRAAoODmb7XV1dCQAZGxtTVlaWyC6pVMpGVEaPHk1ERHK5nInFzp07U2lpKUsvtMXly5eZiKqoqBDZIowoCbYLTJs2jQBQ3759iYiotLSU3bCXLFkiSltcXEwaGhoEgOLj44mI2MiqnZ1dvREfQYxwsSgWi5MmTWIi4osvvqDHjx9TYWEhrVixgqRSKf31119kZGREQUFBLI+XlxcBoNatW7O+KohFJSUl2rlzJ0ubnJzMRo6Ftk9OTmaC6MSJEyxtQECAqJ7p06cTAJo4caIojWDvzJkzSSqVUllZGaWlpdGcOXPYvs2bN7M8gkisLdgyMzNpwYIFdP/+ffagpaysLBJ/d+/eJRUVFQJAFhYWlJ+fT0RE5eXlZGdnRwBoxIgR7DfGx8eHAJCJiQmlpqaycg4ePMiu7by8PCIiWrp0KbPpjz/+EJ2T/v37c7HIeSvhcxY5HAV88sknovhmrVu3BgA4OztjwoQJbHtYWBgCAwMBKPbcfe+996Cqqsq+Kysrw8rKCsD/HG26dOnC4idu3boVPXv2xJ9//gkA0NDQAACUlZWxMoR4g6WlpYiKigIA+Pn5QV9fX1S3qakpli1bBqAmlElFRYUoTtsnn3wiWv2lffv2AMCOQVNTUxSuRl1dHYaGhiK7BITtubm5qK6uRnZ2NpvvFh4ejgkTJuDzzz/H559/jhkzZrDjSU1NBVAz1wwAZs2aJXKIkMvlqKqqAqdhtLW1sWHDBmhoaEBbWxvffvstTE1NYWFhgeDgYAwfPpyldXFxAVATjqWuc5eRkRGmT5/OvhsbG+Pjjz8GUHNeAaBDhw4wMDAAAMybNw9HjhwBAEyaNElUj9DPave37du3Mxv8/f1hamqKli1bwtDQEJs3b8b48eMBALt37653zt3d3TFz5kwANdEM1q1bh06dOrFrwcjICJMmTWLphbm0ADBs2DC0adMGQE0f/uSTTwAAd+/eRUVFBYqLi7Fv3z4AwMiRI9GqVSukp6cjIyMDtra20NTURGFhIeLi4gCAzc394osv8Pnnn4vsrHtdcDhvC1wscjgKEASdIoqKirBt2zb07NkTw4YNY5PtFSGXyyGXy0XbFC3Pt2HDBixZsgRaWlq4ffs2xowZgzlz5jAPaEWUl5ejpKQEQI3gVISwvaCgoF5cQUEcNtZ2iUTChFzdY6q7XRDCQI0DhbBEofAZNGgQBg0aBB0dHVRXVzOvX11d3afaxKnPxx9/rLDdTE1NYWxsjKKiIpw9exY+Pj7w8vICoNhrl4jqBT4XHkCE86qpqYmNGzdCV1cXKSkpGDt2LNzd3ZGQkFCvrNp/S0tL2YPBtGnTFB7HlClTAABSqZT1eyG/IPDqIohRuVzO+hBQ8+DWrl07APXjaQr9vqysDHK5HPn5+cxLf9u2bTA1NWXOa7a2tsxp5eHDhwBqnHsAwNXVtZ49dVeE4nDeFnicRQ5HASoqii+Nhw8fYvjw4bh+/TpGjBiBP/74A3FxcRg1alSj4wEqSqeuro4ffvgBs2fPhp+fH3777Tds3boVmpqaWL16tcJy1NXVoampidLSUqSlpSlMI9zEtbS0RCOcwIutBlFXJArUPiYigpaWFiQSCYgI8+bNa1AgADUjpW3btkVxcTG7IXMaT8eOHRvcFxwcjBkzZiAjIwOOjo6YNGkSvv/+e8jl8kb1V0WicuTIkcxbPyAgAAcOHMC5c+cQEhKC7t27KyynurqajRbW7Yd1kclk9UTXi4TfEUbF6/bzut9rH+OyZcswYMAAVFdXg4ggkUjYb4GpqSkqKipYuc86Dg7nbYKPLHI4CmjoRnrq1Clcv34dNjY2OH78OLp27Sq62Qg3kMYKRwBIS0vDlStXANS8Yvv1118xb948AGChThStXqKhocGWelu+fDkSExNF++Pi4rBixQoAgI2NzSuLd1dZWYkOHTqw0aC1a9ciOzu7XrqgoCBkZmaKlqzbsGEDC8MC1Bx3Q8KdU0NDAj42NhYuLi7IyMjA/v37cenSJXZOXvTBRqirY8eO2Lt3L0JCQvDBBx8gNzcXX3/9dYPltGrViolaIQRVXYSQNvr6+mzaR0N2NBVyuRw6OjrMtuzsbPTu3RuOjo7o27cvHB0dYW9vD3t7e+jo6EBFRYWN1kdHR78Umzic5ggXixzOcyAImcLCQmRlZaG0tBQXLlxg+1NSUvDw4cPnGnWIjY2Fo6MjPDw8cPXqVdy5cwexsbEAwJZ+U4REIoGfnx+UlJRw//59ODg4YNWqVTh79ix+/vlnDB06FAUFBVBSUmJzFxsSFk2JXC6HsrIyE7xSqRR2dnZYs2YNzp49i927d2Po0KFwdXVlr/R8fX2hpKSE27dvY/Dgwdi3bx/Cw8Nx6dIlPtr4gly5cgWVlZXo0aMHm2crzBV90bXFr127Bm9vb9y7dw8AMGDAALb+c1JSUoOvYVVUVNhr261bt2Lr1q3sWqqsrERAQAB++uknADVzDF9VIPaqqiq0bt1aNGc4ICCAtZNcLodUKmXXprKyMhPcP/74I86fPy8qjwfl5ryt8Ed2zjuHMJ/u8ePH9UYshHlPDa0b3KtXL0gkEqSnp8PExAQ6OjrIyckBUDMv0NbWFnv37mWrrChadUOoQ3Aw0NbWBhFh3759bKK9gLu7O4Cam5og9GrfkPv27YsDBw5g6tSpKCgowPLly0X5tbS0sGfPHjg4OLBtwo2woWMUyn+a7XXzCt9LS0tZmw4ePBhr166Fr68vsrKysHjxYlEeXV1dNtfOwcEB+/btg6enJ65duwYPD496dTe3tZxfJYpG1urOC6yLMDf25s2b2LFjBz766CMsXbqU5dm+fTt69uzJlrtsTB0ymQxbtmxBQEAAXFxcoKOjg0OHDgGAaJRdkW1ff/01QkNDce3aNcyZMwc//fQTTExMkJOTwwKvW1paYuXKlU897udtn8bk8fT0xJ49e5CVlYUpU6Zg9erV6NKlCwoLCxEdHQ0igqenJwBg/vz5CAoKQlRUFIYMGQI7Ozu0a9cOysrKuHTpEoBX81DG4bxKuFjkvHMYGRnB0dERnTp1gpqammifnZ0d8vLyGpx7ZW9vj5MnT2LVqlUoKCiAjY0NfH198eOPP+Lu3bvo06cPXFxckJWVhb59+8Lc3LzeK+RevXohOzubvXq1s7PDxYsXsXPnTsTExEAmk6FTp05YsGAB8zDV0NDAsGHDUFpaWm+t6/Hjx8POzg6//PILzp07h9LSUqirq2PYsGH48ssv2VrYAgMHDkTr1q2Zt2hddHV14eTkBDMzM5HtEokEAwcOhIaGRr21qbt16wZHR0d069ZN9Np44cKF6NOnD7Zs2YL4+HhUVFRAU1MTw4YNg6enp+hYJkyYAEdHRxw7dgznzp1DcXExJBIJlJSUIJPJGrT3bUaRw5CAIOobGs0bPHgw7O3tERkZyYSOpaUlJBIJZDIZlixZgkOHDjFP4cbUoa+vj+7duyM2NpaJRAD46KOPsG7duqfa9t577yEoKAhz5sxBYGAg0tLS2FxbiUSCzz77DJs3bxY5XgnzHJ81V/Zpttf1rBa2186jp6eH06dPY8qUKbh+/TqkUimkUimAmqkln3/+OftN0NLSQlBQEObOnYs///wTV69erVc3F4uctw0JvazJIBzOC+Dj44ONGzfC2dkZISEhL+SE8aqoqqoSCSOZTPbU18aNgYhQWVn5j8opLy+Hurp6s2u7pji2pmTTpk2YN28eDAwMEB8f/1yvPsPDw+Hk5ASJRILExESYmJi8FBvz8vKQkJAAdXV1fPjhh6K2S0lJQVZWFrp06dLgeuHFxcUICwvDvXv30KNHD9ja2iIsLAx3796Fg4MDbG1tUVZWhtu3b0NDQwPW1taiB4S0tDRkZmaic+fOMDY2BlAzMp2QkICkpCTk5OTA3NwcvXr1gra2NsuXmpqKe/fuQV9fX2HbJCQk4Pbt28jIyED79u3Rs2dPhQ9o8fHx7OGtbdu29faXlpbi9u3baNmyZT3b4+PjkZubCwMDAxbaCQBycnIglUqhqakJa2tr0TVcUVGB2NhYJCYmIi8vDwYGBujevTs79rqkpqYiLy9PJA4rKyvRpUsXUZ3/hLi4ONY20dHRsLW1bZJyOZzngYtFTrPiTRKLnDebN0EscjhcLHKaA9zBhcPhcDgcDofTIFwscjgcDofD4XAahItFDofD4XA4HE6DcLHI4XA4HA6Hw2kQLhY5nLcAInppq1xwOE0J76cczpsHj7PI4bzB1L3xCt+5FzmnuVF3/XCA91MO502Bi0UO5w2n7qiicAPmN2JOc4L3Uw7nzYWLRQ7nDYaIIJfLWVBgYcUT4X8Opzkg9NPaglFYGpD3Uw6n+cPFIofzhlN3HV4i4jdgTrNC6Ju1Vzrh/ZTDeXPgYpHDeYMRbrjC39qfl0FxcTFSU1Ohrq4OU1PTeutecziK4K+cOZw3G/5Lz+E0MaWlpZBKpaisrHzhMtLS0vDw4cNnplNSUmKvnoXPy7whh4aGwsbGBi4uLqioqHhp9XDePmr3UaGfNtRXi4qKMH/+fHh5eSE2NvYVW8rhcOrCxSKH04QQEby8vGBpaYkffvjhhco4duwYLC0tYWNjg8zMzKemFW64dW/AL0swCq8TZTLZSymf83ZSt58+68GmpKQEGzZsgL+/P1JSUl6xtRwOpy78NTTnnUMul7+016fV1dWIjY1FVVUVkpKSXqgMqVSKsrIylJWVoaSk5JnpX+WrYOHmLjgnvCh8vtq7x/M8xAjCUi6X/+O+xuFw/jlcLHLeKQ4cOICqqip4eHi8lPJVVFSwf/9+XLhwASNHjnyhMr766iu0b98eenp6sLCwaGILXy/p6en49ddf4efnx0XAK6Cqqgp5eXno1KnTK6kvNzcX7dq1axYPArm5udDV1eXzajmcJoBfRZx3hr/++gtffPEFCgsLFe6vG+C6qKgI5eXl9dIVFxejoKCgwTmJ5ubmmD17NvT19Ru0paysDPn5+QpXs1BXV8eUKVMwdOjQp950CwoK8OTJkwb3NxUlJSXIy8tDeXn5UwXeo0ePUFRUJPJ4rc3ff/+NYcOGITg4uMFyysvLkZ+fz+dDNgFyuRxz5szBzz///Erq2717N3x8fJpEKKqpqf2j/L/99hu8vb25UORwmgh+JXHeCQ4dOgQ3NzcQEdauXYs+ffrAxsYGy5cvBwBs2rQJtra28PPzQ0VFBXx9fWFlZQUbGxv8/vvvAIC7d+9izJgx+PDDD9mcwjVr1qCqqkpU15IlS2Bra4uAgAAAQHZ2Nvr3748ePXogKCgIa9euhYWFBbp3747+/fvj5s2bovxhYWHo0aMHnJ2dmZPLtm3bYGtri6VLlyIkJAS9e/eGubk5bGxssG3bNlRXV9c75qtXr8LLywtOTk6ws7ODvb09evXqBUtLS2zbtu2ZbZaamoqJEyfC2toa3bp1g5WVFXx9fQGIvVqvXLmC4cOHw9raGt27d4eNjQ0OHjwoKisjIwNDhw5FQkICoqKiYG9vjx49emDChAmorKxEbm4uvL298dFHH8HS0hIfffQRVqxYgeLi4mfayalPdXU1Fi1aBH9/fzx8+BCJiYmIl7I2DwAAElRJREFUi4ur5zQlk8kQExODM2fO4OLFi8jOzlZYXklJCSIiInDu3DncunWr3vSIv/76C9OnT0daWhqkUini4+ORkpKisF8qoqysDNevX8epU6cQGhqK2NhYhaLz4cOHuHz5Ms6cOYPIyEgUFRXVS3P48GFMnjxZZEtaWhp7MCsoKMCVK1dw5swZXL16VWEZHA6nDsThNCPmzZtHAMjZ2ZnkcnmTlHn06FECoPDj6upKRESzZs0iAOTi4kJTp04VpenYsSNdu3aNWrdurbCM9evXi+obMmQIAaDly5cTEVFKSgpLq6ysTABIQ0ODbWvdujXFxcWx/EeOHGH77t27J2oXiUTC/rZo0YKlW7NmjciGlStXsrR1PyoqKsy2hoiPj6fOnTuzPC1atBCVZ2hoSHK5nK5cudJg2wYEBBARUWpqKhkbGytMo6enR4WFhdS/f3+F+8ePH99k/aAuGzduJABkYGBAZWVlz5U3LCyMnYekpKSXYt+LUlRUVK8PC5+lS5eydAkJCeTk5CTar6OjQz/99JOovKioKDIxMRGlMzQ0pP/+979ERHTixAnWr2t/OnToQAUFBc+09+bNm9SrV68G+1FQUBAREe3du5c6dOgg2telSxc6e/YsERFVVVXRL7/8orAMMzMzkslkFBgYSHp6evX2RURENFXzNzmxsbHM1ujo6NdtDucdhY8sct56rKyscOLECbRp0wYAsHDhQkRGRiI0NBTr1q0DAKiqqgIAzp49i8uXL+Po0aO4dOkSxo8fj0WLFqGqqgolJSVYuHAhLl++jBs3bsDHxwcAsGzZMuTm5rL61NXVRWUqKSmx164GBgY4c+YMkpOTcevWLTg4OKCkpAQ7d+5k+VVUaqYSKysrs9GVFi1asP0rV65EcnIykpOT2dzLb775Bunp6QCAixcvYvny5VBVVcXOnTsRGRmJZcuWAQA6deqEK1euYP78+Q22V0lJCdzc3JCVlYUePXogJCQEycnJkEqlWLlyJYD/OagkJiZCSUkJq1atwvXr1xEdHY2xY8cCAH7++WdUVVVBU1MTe/bswYwZMwAAdnZ2uHz5MsLDw3Hq1CkoKSnh9u3bGDVqFIKDg3Hz5k1Wz6FDhxAdHd24E80BAERERCAtLY31GUNDQ4waNQpDhw5Ft27dAAC3b9+Gs7MzwsLCYGxsjIULF8LDwwOFhYVYsGAB1q5dC6CmL3h4eCA5ORkDBgyAn58fRo0ahfT0dFy9ehWPHj3CsWPH0KVLFwCAjo4ORo4cCVdXV7i4uLC+3BDnz59H3759cf36dRgbG2Px4sVYvnw5Bg4cyNIoKytDLpfD29sbOTk5GDhwICZPngw9PT1kZmbC09MTZWVlSElJQWhoKAwNDQEAWlpaGDlyJFxcXDB06FCUlZVh7ty5uH//Pvr3748pU6bA0NAQUqkUY8eObVSoKg7nneV1q1UOpzYvY2SRiEgmk7GRst27d9fb7+3tzZ7eQ0NDRfuqq6spNjaWAgMDRdsLCgrYaJtUKmXbR4wYQQBo1apVRESUlpbGRl5+/fVXURkBAQEEgPr378+2HTt2jI1CZmVlERHRokWLCAANGDBAlD8+Pp6UlJQIAF26dImIiL7//nsCQLNnzxaldXZ2JgB0+PDhp7bV/v372YhnQkKCaN/p06fZaFx1dTVdvnyZjewIZGZmEgAyMjKi8vJytn3t2rWi0VyBx48f0759+6i6upptKy8vJxUVFQJAx44de6q9L8rbOrIoYGdnRwBoxYoV9faNGzeOAJC9vT0VFhay7Tt27CAApKurS+Xl5XT//n12XZw4cYKlO3/+vOg6WbduHQGg0aNHN9o+uVxOjo6OBIDs7OwoPz+f7cvNzWX9+vTp01RWVkb29vb0xx9/sDQpKSmko6NDAOjq1ats+5o1awgAffrpp6L6Hj16RPb29rRnzx62LSsrizp27EgA6MyZM422/VXCRxY5zQHuDc15JygtLW1UjEBTU1PY29uLtikpKcHCwoJ5JldUVOD8+fM4evToc4eA0dDQEH3X0dEBUDNnq7q6+pkewq1atRJ919fXh5aWFoqKipjDjba2NgCI5mI9efIEBQUFAIAHDx48tY4rV64AAPr37w8zMzPRvtqOJxUVFXBwcGDfi4uLERwcjD///BNA/ZA+QrvXncemoaGBL774gn2/du0a/vjjj3pzQTmNRyaTsXau64j15MkTXLt2DQDwySef4N69e0hMTISKigr09PQgkUjw8OFD3LhxA/b29hg+fDhOnTqFadOmYcWKFZgxY4Zo5E+oD6h/bp9Geno6s+Orr75iI/+1ywNqHHVUVFRw9OhRkdNY586d0alTJxQWFqKsrOyZtrRo0QKBgYF4//332bZOnTpBX18fDx484LFDOZynwF9Dczi1MDU1Za+R6yKTybBhwwZYWlrCxcUFly9fZkKRFHg1K6Kup7AgDl80vxDcuDYjRoyAjo4ODhw4AG9vb+zatQvjxo3D7du3oaamBldX16fWIYg0XV3dRtlUUlKCVatWoVu3bnBzc4NUKm1UvrocOXIETk5OsLe3x59//sk9WV8Sgic+APz73/+GtbU1czhydXVlffHOnTtQVlZmfT43NxezZ8/G0KFD6zllvQjp6elMyHbv3l20r/b1IJfLoaqqyoRiWFgYvvrqK5iamiIuLq7R9amrqzOhGBERAV9fX3Tt2pVNc2jIi5/D4fA4i5x3kKeJkIZGCSsqKjB9+nT8/vvvsLa2xunTp2FlZYUuXbo812hKXRorEp8nv76+Po4cOQIPDw9s2bKFbVdVVcX27dthZGT01DLbt28PAKJ5mIpQVlZGRUUFPvvsM5w7dw6DBg3C0aNHYWxsjI4dOzZ481XUxhs2bMD8+fPRtm1b7Nq1C8OGDUO3bt0aFZSc83zUXjll8eLFsLGxYaNqtYNh9+7dG0DNA1RISAi8vb1x6NAhhISEwMnJCefPn4ednd0L21F7FP1ZcxsB4N69e1i4cCEOHz6M9u3bY+rUqQgMDERKSkqjr6OcnBz4+vpi37590NLSgqenJ06ePIn4+PgXPg4O512Ai0XOO4GysjJzOHmaAGnophMeHo7ff/8d7du3x8WLF6GtrS2Kk9iYm92rRE1NDWpqaujSpQsGDx4MCwsLDB48GFZWVs/M6+rqipUrV+LcuXO4ceMGbG1tReUKtGjRAnv37sW5c+fwwQcfICgoCGpqasjLy2PtIrR57f9rvzIEaqYIrFixAgBw9OhR9O/fH+Xl5UzA8ODdL4YgCOuKc01NTbRv3x7FxcVo3bo1xo8f/8yy2rVrh4MHD2LEiBFYuHAhsrOz8dVXX+HChQtQV1dvsK6nYWJigpYtW6K8vBxpaWn1RhcFhIe7SZMm4cKFC5gyZQrWr18PbW1tXLx4sd5ygE+zZdq0aQgKCoK7uzs2btwIXV1d3Lhxg4tFDucZ8Pc8nHeCVq1asVUsDhw4gPPnz+PYsWOYPXs20tPTG3z1LCDM95PJZCwWXUREBORyOSQSCfLz85GVlfVyD+I58PPzQ2pqKr788kvs2rUL8+fPb5RQBIBevXph1KhRkMlkcHV1xebNm/Gf//wH586dQ0REhChtWloagJqRVyHYeVBQEIAakZednc1eFQpz0iIiIrBnzx4EBwfD19cXgYGBTFwKbRsVFcXEYmlpKdLS0hoMgs6pj4qKClq2bAmgJhi6QFJSEiorKzFkyBAAwPLly7Fv3z5R3vj4eCxevBjp6em4d+8e5s+fj+TkZADAhAkT4OnpCaAmjmdeXh6rD4BoLfPi4uKnTknQ09ODo6MjAGDjxo2ihzgNDQ0m9lRVVZGTk4MLFy4AqIk+IMzLFfqNcKzA/6IRZGRksG2FhYW4efMmzp49C6AmeoAwzUIYAX/WbwCH807zOrxqOJyGeFne0EREBw8eVBgPTiqVko+PDwGggQMHKsybmJjIYrypqamRg4MDaWlpsTI0NDTo22+/JSKijz/+mACQn58fEYnjLO7fv19UruD5bG5uTlVVVUREFBgYyNJnZmYS0f+8tWt7TRMRFRcXs3iLwcHBbPuyZcuYt66TkxMtWLCA9u/fT3fu3GlUW2VnZ9Pw4cMbjH2nq6tL1dXVFBUVRS1btiSgJh5lr169RPEoNTU1WWy/pKSkevH6ANCePXuYdy4A6tu3L/NQFdp7wIABVFlZ2SjbG8vb7g3t6+vLvOq9vLxo6tSp1LJlS4qJiaH79++TmZkZa2MnJyeaPHkyubi4MC9kqVRKiYmJBIBUVVVp7ty59M0331CnTp0IANna2lJJSQkR/a8fA6AxY8bQvHnzyNDQkCZPnvxUGyMjI9m5NjY2pokTJ5Knpye5u7uz8s6cOUOFhYXMO/7LL7+k0NBQ8vPzY9EIfH19aceOHUREdPLkSZZ31KhR5O3tTXp6erR69WoyMDAgADRz5kwKDQ2llStXsuOdO3cu7dixg2Qy2Us/N88D94bmNAe4WOQ0K16mWCQiunbtGk2bNo369etH48aNoyNHjpBMJqOjR4/S5MmTafv27Q3mTU5OpunTp5OjoyPNnj2bYmNjac+ePWRvb08+Pj704MEDIiLy9/enyZMns6DF+fn55OPjQzNnzqQbN26Iyrxz5w7NmDGD1q5dy0LHxMTEkKenJ/n4+LCwJseOHaMpU6bQtm3bRPmfPHlCS5cuJS8vL0pMTCQiotWrV5Ouri4TCrWFmZKSEi1ZsqRRbVVVVUWXLl2iVatW0axZs8jLy4tmzZpFnp6etGLFCnZTvXXrFk2aNIkcHR3J19eXkpOT6f/+7//Izs6Oli9fTnl5eazM/Px8+u6772jQoEH06aefkr+/Pz169IiKiopo+fLl1K9fP3Jzc6PIyEg6fPgwOTg4kIeHR6NF7vPwtovFnJwcFiBe+Ojr61NKSgoR1TwQjBw5kokw4dOmTRvy8/OjJ0+eUGFhIY0ePVoUAB7/P+RO7XBRFRUVtHjxYlJVVWVpJBIJ/fDDD8+08969e/TZZ5/V66sSiYQkEgkLyr1y5UpRGnNzc7KwsGDfPTw8iKgmTNbXX38tsrlFixYUEhJC27ZtE9lobGxM5ubm7Lubm9tLCwL/onCxyGkOSIj+4Qx7DqcJ8fHxwcaNG+Hs7IyQkJAmWWf2XSIyMpI5Jnz//ff47LPPIJFIkJ2djXXr1uHkyZMAajxK+/Xr9zpNfe1s2rQJ8+bNg4GBAeLj40WvMp9FeHg4nJycWGByExOTl2jpiyOXyxETE4O///4bbdq0gZmZGdq2bStKk5iYiAcPHqC0tBTt27fH+++/z5ycBNLT05GRkYGSkhLo6+vD3Nxc4WvbpKQkJCcnQ1VVFYaGhjAyMmr0nNP09HSUlJSwcFTCrcnAwADvvfceALCl+9q1a4cPP/wQZWVliIiIQIcOHWBtbS0KXi8ErldWVka3bt2YJ7RUKkVKSgp0dXVhbW2NsrIyhIWFQV9fH9bW1v94XeqmJi4ujs3njI6OFs0h5nBeFc1rVj6Hw/lHxMTEAKhZtWPp0qVsuxA/snPnzsjPz+di8R1BSUkJNjY2sLGxaTCNqakpTE1Nn1qOoaEhWxnlaXTt2hVdu3Z9bjuFOp6Fubk5zM3N2fcWLVrAxcVFYVoTExOFIt7MzEwUP1RdXR2jRo16AYs5nHcHLhY5nLcIIXB4eno6/P39MXz4cKipqeHx48f4z3/+w+Lr8dEJDofD4TQWLhY5nLcIR0dHzJ8/H+vXr4eXlxdUVVWhpqYmWsFm5syZGDp06Gu2lMPhcDhvCjx0DofzFiGRSPDTTz/h8uXL+Ne//gUjIyO0adMGpqamGDduHEJDQ7F9+3a+OgqHw+FwGg0fWeRw3kIcHBzg4OCAyspKyGQyqKmpNbvA4RwOh8N5M+B3Dw7nLUZVVVW0igqHw+FwOM8LfxfFaZaoqKjwsDmcl0pThUhp1apVk5TD4ShCQ0PjdZvA4fCRRU7zJDMzE3v37hXFW+NwmgpVVVWEhYX943KICPv27UPHjh3ZsnEcTlOhrKzcrJYR5by7cLHIaVYI6wEnJiZi6tSpr9kazrvAkydP/lH+JUuWNJElHM7T4Q/OnNcFF4ucZsW4ceMQFRWFx48f89fQnJeORCKBu7v7c7+S7t69O0aMGIHk5GTeTzkvHSJC9+7dYWxs/LpN4byj8OX+OM0SmUzGb8Kcl45EIvlHXuK8n3JeBUQkWsqQw3nVcLHI4XA4HA6Hw2kQ7g3N4XA4HA6Hw2kQLhY5HA6Hw+FwOA3y/wDZvF5d12BNRQAAAABJRU5ErkJggg==)\n",
        "\n",
        "*Fig 1. Using the scikit-learn API for data transformation*"
      ],
      "metadata": {
        "id": "i6vkEHLGr3tT"
      }
    },
    {
      "cell_type": "markdown",
      "source": [
        "그림 1은 교육 데이터에 scickit-learn transformer 인스턴스가 교육 데이터 세트 및 새로운 테스트 데이터세트를 변환하는 방법을 설명하는 그림이다.\n"
      ],
      "metadata": {
        "id": "nuVFjHYFsZw1"
      }
    },
    {
      "cell_type": "markdown",
      "source": [
        "![image.png](data:image/png;base64,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)\n",
        "\n",
        "*Fig 2. Using the scikit-learn API for predictive models such as classifiers*"
      ],
      "metadata": {
        "id": "rkTOKuMKvUmO"
      }
    },
    {
      "cell_type": "markdown",
      "source": [
        "분류 작업을 위해 estimators를 훈련시킬 때 모델의 매개 변수를 학습하기 위해 적합 방법을 3장에서 사용했었다. 하지만 지도 학습 작업에서는 모델을 맞추기 위한 클래스 레이블을 추가로 제공하고, Fig 2에 설멷된 대로 예측 방법을 통해 레이블이 지정되지 않은 새롱누 데이터 예제에 대한 예측을 하는데 사용할 수 있다."
      ],
      "metadata": {
        "id": "D_UZseViviBI"
      }
    },
    {
      "cell_type": "markdown",
      "source": [
        "---\n",
        "<br></br>"
      ],
      "metadata": {
        "id": "gJpExrGIwBj5"
      }
    },
    {
      "cell_type": "markdown",
      "source": [
        "## **Handling categorical data**"
      ],
      "metadata": {
        "id": "6ikENTd8wEdC"
      }
    },
    {
      "cell_type": "markdown",
      "source": [
        "지금까지 예시로 우리는 수치데이터만 가지고 예시를 다뤘다. 하지만 실제 데이터세트에는 하나 이상의 범주형 feature 열을 포함하는 것은 드문일이 아니다. 이 장에서는 수치 계산 라이브러리에서 이러한 유혀으이 데이터를 처리하는 방법에 대해 알아볼 것이다.\n",
        "\n",
        "범주형 데이터에 대해 이야기할 떄, **`ordinal`**과 **`nominal`**을 구분해야 한다. \n",
        "\n",
        "**`ordinal`**은 정렬 또는 순서로 나열이 가능한 범주형 값으로 이해하면 된다. 예시로\n",
        "`XL> L > M` 를 예시로 들 수 있으며,빨간색이 파란색보다 크다고 말하는 것은 일반적으로 말이 안되기에 **`nominal`**은 티셔츠 색상과 같은 명목상의 특징으로 이해하면 된다. "
      ],
      "metadata": {
        "id": "6Pct-mELwMj0"
      }
    },
    {
      "cell_type": "markdown",
      "source": [
        "### **Categorical data encoding with pandas**"
      ],
      "metadata": {
        "id": "qK8C1ETYxud8"
      }
    },
    {
      "cell_type": "markdown",
      "source": [
        "카테고리데이터와 같은 범주형 데이터를 처리하는 기술을 알아보기 위해 새로운 데이터프레임을 생성"
      ],
      "metadata": {
        "id": "1KnKfJDgxwWY"
      }
    },
    {
      "cell_type": "markdown",
      "source": [
        "\n",
        "\n",
        "```\n",
        ">>> import pandas as pd\n",
        ">>> df = pd.DataFrame([\n",
        "... ['green', 'M', 10.1, 'class2'],\n",
        "... ['red', 'L', 13.5, 'class1'],\n",
        "... ['blue', 'XL', 15.3, 'class2']])\n",
        ">>> df.columns = ['color', 'size', 'price', 'classlabel']\n",
        ">>> df\n",
        "     color   size   price   classlabel\n",
        "0    green    M      10.1    class2\n",
        "1    red      L      13.5    class1\n",
        "2    blue     XL     15.3    class2\n",
        "```\n",
        "\n"
      ],
      "metadata": {
        "id": "n_wDGT4SyPD_"
      }
    },
    {
      "cell_type": "markdown",
      "source": [
        "새로 생성된 예시 데이터프레임은 `nominal`데이터인 `color`와 `ordinal`데이터인 `size`, `numerical`데이터인 `price` 열이 포함되어 있다. 클래스 레이블은 마지막 열에 저장이 되어있다."
      ],
      "metadata": {
        "id": "mlRFTijNycHS"
      }
    },
    {
      "cell_type": "markdown",
      "source": [
        "---\n",
        "<br></br>"
      ],
      "metadata": {
        "id": "tfJ38jsGzLM_"
      }
    },
    {
      "cell_type": "markdown",
      "source": [
        "### **Mapping ordinal features**"
      ],
      "metadata": {
        "id": "e_cZeMxyzPt5"
      }
    }
  ]
}